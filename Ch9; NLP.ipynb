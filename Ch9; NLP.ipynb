{
 "cells": [
  {
   "cell_type": "markdown",
   "metadata": {},
   "source": [
    "+ 상품리뷰분석\n",
    "+ Word Cloud"
   ]
  },
  {
   "cell_type": "code",
   "execution_count": 70,
   "metadata": {},
   "outputs": [],
   "source": [
    "import pandas as pd\n",
    "import numpy as np\n",
    "import seaborn as sns\n",
    "import matplotlib.pyplot as plt"
   ]
  },
  {
   "cell_type": "code",
   "execution_count": 71,
   "metadata": {},
   "outputs": [],
   "source": [
    "data = pd.read_csv('./data/yelp.csv', index_col = 0)"
   ]
  },
  {
   "cell_type": "code",
   "execution_count": 72,
   "metadata": {},
   "outputs": [
    {
     "data": {
      "text/html": [
       "<div>\n",
       "<style scoped>\n",
       "    .dataframe tbody tr th:only-of-type {\n",
       "        vertical-align: middle;\n",
       "    }\n",
       "\n",
       "    .dataframe tbody tr th {\n",
       "        vertical-align: top;\n",
       "    }\n",
       "\n",
       "    .dataframe thead th {\n",
       "        text-align: right;\n",
       "    }\n",
       "</style>\n",
       "<table border=\"1\" class=\"dataframe\">\n",
       "  <thead>\n",
       "    <tr style=\"text-align: right;\">\n",
       "      <th></th>\n",
       "      <th>review_id</th>\n",
       "      <th>user_id</th>\n",
       "      <th>business_id</th>\n",
       "      <th>stars</th>\n",
       "      <th>date</th>\n",
       "      <th>text</th>\n",
       "      <th>useful</th>\n",
       "      <th>funny</th>\n",
       "      <th>cool</th>\n",
       "    </tr>\n",
       "  </thead>\n",
       "  <tbody>\n",
       "    <tr>\n",
       "      <th>2967245</th>\n",
       "      <td>aMleVK0lQcOSNCs56_gSbg</td>\n",
       "      <td>miHaLnLanDKfZqZHet0uWw</td>\n",
       "      <td>Xp_cWXY5rxDLkX-wqUg-iQ</td>\n",
       "      <td>5</td>\n",
       "      <td>2015-09-30</td>\n",
       "      <td>LOVE the cheeses here.  They are worth the pri...</td>\n",
       "      <td>0</td>\n",
       "      <td>0</td>\n",
       "      <td>1</td>\n",
       "    </tr>\n",
       "    <tr>\n",
       "      <th>4773684</th>\n",
       "      <td>Hs1f--t9JnVKW9A1U2uhKA</td>\n",
       "      <td>r_RUQSGZcd5bSgmTcS5IfQ</td>\n",
       "      <td>NuGZD3yBVqzpY1HuzT26mQ</td>\n",
       "      <td>5</td>\n",
       "      <td>2015-06-04</td>\n",
       "      <td>This has become our go-to sushi place. The sus...</td>\n",
       "      <td>0</td>\n",
       "      <td>0</td>\n",
       "      <td>0</td>\n",
       "    </tr>\n",
       "    <tr>\n",
       "      <th>1139855</th>\n",
       "      <td>i7aiPgNrNaFoM8J_j2OSyQ</td>\n",
       "      <td>zz7lojg6QdZbKFCJiHsj7w</td>\n",
       "      <td>ii8sAGBexBOJoYRFafF9XQ</td>\n",
       "      <td>1</td>\n",
       "      <td>2016-07-03</td>\n",
       "      <td>I was very disappointed with the hotel. The re...</td>\n",
       "      <td>2</td>\n",
       "      <td>1</td>\n",
       "      <td>1</td>\n",
       "    </tr>\n",
       "    <tr>\n",
       "      <th>3997153</th>\n",
       "      <td>uft6iMwNQh4I2UDpmbXggA</td>\n",
       "      <td>p_oXN3L9oi8nmmJigf8c9Q</td>\n",
       "      <td>r0j4IpUbcdC1-HfoMYae4w</td>\n",
       "      <td>5</td>\n",
       "      <td>2016-10-15</td>\n",
       "      <td>Love this place - super amazing - staff here i...</td>\n",
       "      <td>0</td>\n",
       "      <td>0</td>\n",
       "      <td>0</td>\n",
       "    </tr>\n",
       "    <tr>\n",
       "      <th>4262000</th>\n",
       "      <td>y9QmJ16mrfBZS6Td6Yqo0g</td>\n",
       "      <td>jovtGPaHAqP6XfG9BFwY7A</td>\n",
       "      <td>j6UwIfXrSkGTdVkRu7K6WA</td>\n",
       "      <td>5</td>\n",
       "      <td>2017-03-14</td>\n",
       "      <td>Thank you Dana!!!! Having dyed my hair black p...</td>\n",
       "      <td>0</td>\n",
       "      <td>0</td>\n",
       "      <td>0</td>\n",
       "    </tr>\n",
       "  </tbody>\n",
       "</table>\n",
       "</div>"
      ],
      "text/plain": [
       "                      review_id                 user_id  \\\n",
       "2967245  aMleVK0lQcOSNCs56_gSbg  miHaLnLanDKfZqZHet0uWw   \n",
       "4773684  Hs1f--t9JnVKW9A1U2uhKA  r_RUQSGZcd5bSgmTcS5IfQ   \n",
       "1139855  i7aiPgNrNaFoM8J_j2OSyQ  zz7lojg6QdZbKFCJiHsj7w   \n",
       "3997153  uft6iMwNQh4I2UDpmbXggA  p_oXN3L9oi8nmmJigf8c9Q   \n",
       "4262000  y9QmJ16mrfBZS6Td6Yqo0g  jovtGPaHAqP6XfG9BFwY7A   \n",
       "\n",
       "                    business_id  stars        date  \\\n",
       "2967245  Xp_cWXY5rxDLkX-wqUg-iQ      5  2015-09-30   \n",
       "4773684  NuGZD3yBVqzpY1HuzT26mQ      5  2015-06-04   \n",
       "1139855  ii8sAGBexBOJoYRFafF9XQ      1  2016-07-03   \n",
       "3997153  r0j4IpUbcdC1-HfoMYae4w      5  2016-10-15   \n",
       "4262000  j6UwIfXrSkGTdVkRu7K6WA      5  2017-03-14   \n",
       "\n",
       "                                                      text  useful  funny  \\\n",
       "2967245  LOVE the cheeses here.  They are worth the pri...       0      0   \n",
       "4773684  This has become our go-to sushi place. The sus...       0      0   \n",
       "1139855  I was very disappointed with the hotel. The re...       2      1   \n",
       "3997153  Love this place - super amazing - staff here i...       0      0   \n",
       "4262000  Thank you Dana!!!! Having dyed my hair black p...       0      0   \n",
       "\n",
       "         cool  \n",
       "2967245     1  \n",
       "4773684     0  \n",
       "1139855     1  \n",
       "3997153     0  \n",
       "4262000     0  "
      ]
     },
     "execution_count": 72,
     "metadata": {},
     "output_type": "execute_result"
    }
   ],
   "source": [
    "data.head()"
   ]
  },
  {
   "cell_type": "code",
   "execution_count": 73,
   "metadata": {},
   "outputs": [
    {
     "name": "stdout",
     "output_type": "stream",
     "text": [
      "<class 'pandas.core.frame.DataFrame'>\n",
      "Int64Index: 10000 entries, 2967245 to 838267\n",
      "Data columns (total 9 columns):\n",
      " #   Column       Non-Null Count  Dtype \n",
      "---  ------       --------------  ----- \n",
      " 0   review_id    10000 non-null  object\n",
      " 1   user_id      10000 non-null  object\n",
      " 2   business_id  10000 non-null  object\n",
      " 3   stars        10000 non-null  int64 \n",
      " 4   date         10000 non-null  object\n",
      " 5   text         10000 non-null  object\n",
      " 6   useful       10000 non-null  int64 \n",
      " 7   funny        10000 non-null  int64 \n",
      " 8   cool         10000 non-null  int64 \n",
      "dtypes: int64(4), object(5)\n",
      "memory usage: 781.2+ KB\n"
     ]
    }
   ],
   "source": [
    "data.info()"
   ]
  },
  {
   "cell_type": "code",
   "execution_count": 74,
   "metadata": {},
   "outputs": [
    {
     "data": {
      "text/html": [
       "<div>\n",
       "<style scoped>\n",
       "    .dataframe tbody tr th:only-of-type {\n",
       "        vertical-align: middle;\n",
       "    }\n",
       "\n",
       "    .dataframe tbody tr th {\n",
       "        vertical-align: top;\n",
       "    }\n",
       "\n",
       "    .dataframe thead th {\n",
       "        text-align: right;\n",
       "    }\n",
       "</style>\n",
       "<table border=\"1\" class=\"dataframe\">\n",
       "  <thead>\n",
       "    <tr style=\"text-align: right;\">\n",
       "      <th></th>\n",
       "      <th>stars</th>\n",
       "      <th>useful</th>\n",
       "      <th>funny</th>\n",
       "      <th>cool</th>\n",
       "    </tr>\n",
       "  </thead>\n",
       "  <tbody>\n",
       "    <tr>\n",
       "      <th>count</th>\n",
       "      <td>10000.000000</td>\n",
       "      <td>10000.000000</td>\n",
       "      <td>10000.000000</td>\n",
       "      <td>10000.000000</td>\n",
       "    </tr>\n",
       "    <tr>\n",
       "      <th>mean</th>\n",
       "      <td>4.012800</td>\n",
       "      <td>1.498800</td>\n",
       "      <td>0.464200</td>\n",
       "      <td>0.542500</td>\n",
       "    </tr>\n",
       "    <tr>\n",
       "      <th>std</th>\n",
       "      <td>1.724684</td>\n",
       "      <td>6.339355</td>\n",
       "      <td>1.926523</td>\n",
       "      <td>2.010273</td>\n",
       "    </tr>\n",
       "    <tr>\n",
       "      <th>min</th>\n",
       "      <td>1.000000</td>\n",
       "      <td>0.000000</td>\n",
       "      <td>0.000000</td>\n",
       "      <td>0.000000</td>\n",
       "    </tr>\n",
       "    <tr>\n",
       "      <th>25%</th>\n",
       "      <td>5.000000</td>\n",
       "      <td>0.000000</td>\n",
       "      <td>0.000000</td>\n",
       "      <td>0.000000</td>\n",
       "    </tr>\n",
       "    <tr>\n",
       "      <th>50%</th>\n",
       "      <td>5.000000</td>\n",
       "      <td>0.000000</td>\n",
       "      <td>0.000000</td>\n",
       "      <td>0.000000</td>\n",
       "    </tr>\n",
       "    <tr>\n",
       "      <th>75%</th>\n",
       "      <td>5.000000</td>\n",
       "      <td>2.000000</td>\n",
       "      <td>0.000000</td>\n",
       "      <td>0.000000</td>\n",
       "    </tr>\n",
       "    <tr>\n",
       "      <th>max</th>\n",
       "      <td>5.000000</td>\n",
       "      <td>533.000000</td>\n",
       "      <td>83.000000</td>\n",
       "      <td>97.000000</td>\n",
       "    </tr>\n",
       "  </tbody>\n",
       "</table>\n",
       "</div>"
      ],
      "text/plain": [
       "              stars        useful         funny          cool\n",
       "count  10000.000000  10000.000000  10000.000000  10000.000000\n",
       "mean       4.012800      1.498800      0.464200      0.542500\n",
       "std        1.724684      6.339355      1.926523      2.010273\n",
       "min        1.000000      0.000000      0.000000      0.000000\n",
       "25%        5.000000      0.000000      0.000000      0.000000\n",
       "50%        5.000000      0.000000      0.000000      0.000000\n",
       "75%        5.000000      2.000000      0.000000      0.000000\n",
       "max        5.000000    533.000000     83.000000     97.000000"
      ]
     },
     "execution_count": 74,
     "metadata": {},
     "output_type": "execute_result"
    }
   ],
   "source": [
    "data.describe()"
   ]
  },
  {
   "cell_type": "code",
   "execution_count": 75,
   "metadata": {},
   "outputs": [],
   "source": [
    "data.drop(['review_id','user_id','business_id','date'], axis = 1, inplace = True)"
   ]
  },
  {
   "cell_type": "code",
   "execution_count": 76,
   "metadata": {},
   "outputs": [
    {
     "data": {
      "text/html": [
       "<div>\n",
       "<style scoped>\n",
       "    .dataframe tbody tr th:only-of-type {\n",
       "        vertical-align: middle;\n",
       "    }\n",
       "\n",
       "    .dataframe tbody tr th {\n",
       "        vertical-align: top;\n",
       "    }\n",
       "\n",
       "    .dataframe thead th {\n",
       "        text-align: right;\n",
       "    }\n",
       "</style>\n",
       "<table border=\"1\" class=\"dataframe\">\n",
       "  <thead>\n",
       "    <tr style=\"text-align: right;\">\n",
       "      <th></th>\n",
       "      <th>stars</th>\n",
       "      <th>text</th>\n",
       "      <th>useful</th>\n",
       "      <th>funny</th>\n",
       "      <th>cool</th>\n",
       "    </tr>\n",
       "  </thead>\n",
       "  <tbody>\n",
       "    <tr>\n",
       "      <th>2967245</th>\n",
       "      <td>5</td>\n",
       "      <td>LOVE the cheeses here.  They are worth the pri...</td>\n",
       "      <td>0</td>\n",
       "      <td>0</td>\n",
       "      <td>1</td>\n",
       "    </tr>\n",
       "    <tr>\n",
       "      <th>4773684</th>\n",
       "      <td>5</td>\n",
       "      <td>This has become our go-to sushi place. The sus...</td>\n",
       "      <td>0</td>\n",
       "      <td>0</td>\n",
       "      <td>0</td>\n",
       "    </tr>\n",
       "    <tr>\n",
       "      <th>1139855</th>\n",
       "      <td>1</td>\n",
       "      <td>I was very disappointed with the hotel. The re...</td>\n",
       "      <td>2</td>\n",
       "      <td>1</td>\n",
       "      <td>1</td>\n",
       "    </tr>\n",
       "    <tr>\n",
       "      <th>3997153</th>\n",
       "      <td>5</td>\n",
       "      <td>Love this place - super amazing - staff here i...</td>\n",
       "      <td>0</td>\n",
       "      <td>0</td>\n",
       "      <td>0</td>\n",
       "    </tr>\n",
       "    <tr>\n",
       "      <th>4262000</th>\n",
       "      <td>5</td>\n",
       "      <td>Thank you Dana!!!! Having dyed my hair black p...</td>\n",
       "      <td>0</td>\n",
       "      <td>0</td>\n",
       "      <td>0</td>\n",
       "    </tr>\n",
       "    <tr>\n",
       "      <th>...</th>\n",
       "      <td>...</td>\n",
       "      <td>...</td>\n",
       "      <td>...</td>\n",
       "      <td>...</td>\n",
       "      <td>...</td>\n",
       "    </tr>\n",
       "    <tr>\n",
       "      <th>1567641</th>\n",
       "      <td>5</td>\n",
       "      <td>I'm a sucker for places like this. Get me in f...</td>\n",
       "      <td>3</td>\n",
       "      <td>1</td>\n",
       "      <td>3</td>\n",
       "    </tr>\n",
       "    <tr>\n",
       "      <th>4910763</th>\n",
       "      <td>1</td>\n",
       "      <td>Extremely rude staff!  Was told 4 min on a lar...</td>\n",
       "      <td>0</td>\n",
       "      <td>0</td>\n",
       "      <td>0</td>\n",
       "    </tr>\n",
       "    <tr>\n",
       "      <th>1036315</th>\n",
       "      <td>5</td>\n",
       "      <td>I live in NYC and went to the RTR here in the ...</td>\n",
       "      <td>1</td>\n",
       "      <td>0</td>\n",
       "      <td>0</td>\n",
       "    </tr>\n",
       "    <tr>\n",
       "      <th>555962</th>\n",
       "      <td>5</td>\n",
       "      <td>If you are looking for a trainer, then look no...</td>\n",
       "      <td>0</td>\n",
       "      <td>0</td>\n",
       "      <td>0</td>\n",
       "    </tr>\n",
       "    <tr>\n",
       "      <th>838267</th>\n",
       "      <td>5</td>\n",
       "      <td>Awesome food. Awesome beer. Awesome service. N...</td>\n",
       "      <td>0</td>\n",
       "      <td>0</td>\n",
       "      <td>1</td>\n",
       "    </tr>\n",
       "  </tbody>\n",
       "</table>\n",
       "<p>10000 rows × 5 columns</p>\n",
       "</div>"
      ],
      "text/plain": [
       "         stars                                               text  useful  \\\n",
       "2967245      5  LOVE the cheeses here.  They are worth the pri...       0   \n",
       "4773684      5  This has become our go-to sushi place. The sus...       0   \n",
       "1139855      1  I was very disappointed with the hotel. The re...       2   \n",
       "3997153      5  Love this place - super amazing - staff here i...       0   \n",
       "4262000      5  Thank you Dana!!!! Having dyed my hair black p...       0   \n",
       "...        ...                                                ...     ...   \n",
       "1567641      5  I'm a sucker for places like this. Get me in f...       3   \n",
       "4910763      1  Extremely rude staff!  Was told 4 min on a lar...       0   \n",
       "1036315      5  I live in NYC and went to the RTR here in the ...       1   \n",
       "555962       5  If you are looking for a trainer, then look no...       0   \n",
       "838267       5  Awesome food. Awesome beer. Awesome service. N...       0   \n",
       "\n",
       "         funny  cool  \n",
       "2967245      0     1  \n",
       "4773684      0     0  \n",
       "1139855      1     1  \n",
       "3997153      0     0  \n",
       "4262000      0     0  \n",
       "...        ...   ...  \n",
       "1567641      1     3  \n",
       "4910763      0     0  \n",
       "1036315      0     0  \n",
       "555962       0     0  \n",
       "838267       0     1  \n",
       "\n",
       "[10000 rows x 5 columns]"
      ]
     },
     "execution_count": 76,
     "metadata": {},
     "output_type": "execute_result"
    }
   ],
   "source": [
    "data"
   ]
  },
  {
   "cell_type": "code",
   "execution_count": 77,
   "metadata": {},
   "outputs": [
    {
     "data": {
      "text/plain": [
       "347"
      ]
     },
     "execution_count": 77,
     "metadata": {},
     "output_type": "execute_result"
    }
   ],
   "source": [
    "len(data.iloc[0]['text'])"
   ]
  },
  {
   "cell_type": "code",
   "execution_count": 78,
   "metadata": {},
   "outputs": [],
   "source": [
    "data['text_length'] = data['text'].apply(len) # 각 obs별 text len"
   ]
  },
  {
   "cell_type": "code",
   "execution_count": 79,
   "metadata": {},
   "outputs": [
    {
     "data": {
      "text/html": [
       "<div>\n",
       "<style scoped>\n",
       "    .dataframe tbody tr th:only-of-type {\n",
       "        vertical-align: middle;\n",
       "    }\n",
       "\n",
       "    .dataframe tbody tr th {\n",
       "        vertical-align: top;\n",
       "    }\n",
       "\n",
       "    .dataframe thead th {\n",
       "        text-align: right;\n",
       "    }\n",
       "</style>\n",
       "<table border=\"1\" class=\"dataframe\">\n",
       "  <thead>\n",
       "    <tr style=\"text-align: right;\">\n",
       "      <th></th>\n",
       "      <th>stars</th>\n",
       "      <th>text</th>\n",
       "      <th>useful</th>\n",
       "      <th>funny</th>\n",
       "      <th>cool</th>\n",
       "      <th>text_length</th>\n",
       "    </tr>\n",
       "  </thead>\n",
       "  <tbody>\n",
       "    <tr>\n",
       "      <th>2967245</th>\n",
       "      <td>5</td>\n",
       "      <td>LOVE the cheeses here.  They are worth the pri...</td>\n",
       "      <td>0</td>\n",
       "      <td>0</td>\n",
       "      <td>1</td>\n",
       "      <td>347</td>\n",
       "    </tr>\n",
       "    <tr>\n",
       "      <th>4773684</th>\n",
       "      <td>5</td>\n",
       "      <td>This has become our go-to sushi place. The sus...</td>\n",
       "      <td>0</td>\n",
       "      <td>0</td>\n",
       "      <td>0</td>\n",
       "      <td>377</td>\n",
       "    </tr>\n",
       "    <tr>\n",
       "      <th>1139855</th>\n",
       "      <td>1</td>\n",
       "      <td>I was very disappointed with the hotel. The re...</td>\n",
       "      <td>2</td>\n",
       "      <td>1</td>\n",
       "      <td>1</td>\n",
       "      <td>663</td>\n",
       "    </tr>\n",
       "    <tr>\n",
       "      <th>3997153</th>\n",
       "      <td>5</td>\n",
       "      <td>Love this place - super amazing - staff here i...</td>\n",
       "      <td>0</td>\n",
       "      <td>0</td>\n",
       "      <td>0</td>\n",
       "      <td>141</td>\n",
       "    </tr>\n",
       "    <tr>\n",
       "      <th>4262000</th>\n",
       "      <td>5</td>\n",
       "      <td>Thank you Dana!!!! Having dyed my hair black p...</td>\n",
       "      <td>0</td>\n",
       "      <td>0</td>\n",
       "      <td>0</td>\n",
       "      <td>455</td>\n",
       "    </tr>\n",
       "  </tbody>\n",
       "</table>\n",
       "</div>"
      ],
      "text/plain": [
       "         stars                                               text  useful  \\\n",
       "2967245      5  LOVE the cheeses here.  They are worth the pri...       0   \n",
       "4773684      5  This has become our go-to sushi place. The sus...       0   \n",
       "1139855      1  I was very disappointed with the hotel. The re...       2   \n",
       "3997153      5  Love this place - super amazing - staff here i...       0   \n",
       "4262000      5  Thank you Dana!!!! Having dyed my hair black p...       0   \n",
       "\n",
       "         funny  cool  text_length  \n",
       "2967245      0     1          347  \n",
       "4773684      0     0          377  \n",
       "1139855      1     1          663  \n",
       "3997153      0     0          141  \n",
       "4262000      0     0          455  "
      ]
     },
     "execution_count": 79,
     "metadata": {},
     "output_type": "execute_result"
    }
   ],
   "source": [
    "data.head()"
   ]
  },
  {
   "cell_type": "code",
   "execution_count": 80,
   "metadata": {},
   "outputs": [
    {
     "data": {
      "text/plain": [
       "5    7532\n",
       "1    2468\n",
       "Name: stars, dtype: int64"
      ]
     },
     "execution_count": 80,
     "metadata": {},
     "output_type": "execute_result"
    }
   ],
   "source": [
    "data['stars'].value_counts()"
   ]
  },
  {
   "cell_type": "code",
   "execution_count": 81,
   "metadata": {},
   "outputs": [
    {
     "data": {
      "text/plain": [
       "<AxesSubplot:xlabel='stars', ylabel='count'>"
      ]
     },
     "execution_count": 81,
     "metadata": {},
     "output_type": "execute_result"
    },
    {
     "data": {
      "image/png": "[encoded data removed]",
      "text/plain": [
       "<Figure size 432x288 with 1 Axes>"
      ]
     },
     "metadata": {
      "needs_background": "light"
     },
     "output_type": "display_data"
    }
   ],
   "source": [
    "sns.countplot(data['stars'])"
   ]
  },
  {
   "cell_type": "code",
   "execution_count": 82,
   "metadata": {},
   "outputs": [
    {
     "data": {
      "text/plain": [
       "<AxesSubplot:xlabel='text_length'>"
      ]
     },
     "execution_count": 82,
     "metadata": {},
     "output_type": "execute_result"
    },
    {
     "data": {
      "image/png": "[encoded data removed]",
      "text/plain": [
       "<Figure size 432x288 with 1 Axes>"
      ]
     },
     "metadata": {
      "needs_background": "light"
     },
     "output_type": "display_data"
    }
   ],
   "source": [
    "sns.distplot(data['text_length'])"
   ]
  },
  {
   "cell_type": "markdown",
   "metadata": {},
   "source": [
    "## 1) correlation"
   ]
  },
  {
   "cell_type": "code",
   "execution_count": 83,
   "metadata": {},
   "outputs": [
    {
     "data": {
      "text/html": [
       "<div>\n",
       "<style scoped>\n",
       "    .dataframe tbody tr th:only-of-type {\n",
       "        vertical-align: middle;\n",
       "    }\n",
       "\n",
       "    .dataframe tbody tr th {\n",
       "        vertical-align: top;\n",
       "    }\n",
       "\n",
       "    .dataframe thead th {\n",
       "        text-align: right;\n",
       "    }\n",
       "</style>\n",
       "<table border=\"1\" class=\"dataframe\">\n",
       "  <thead>\n",
       "    <tr style=\"text-align: right;\">\n",
       "      <th></th>\n",
       "      <th>stars</th>\n",
       "      <th>useful</th>\n",
       "      <th>funny</th>\n",
       "      <th>cool</th>\n",
       "      <th>text_length</th>\n",
       "    </tr>\n",
       "  </thead>\n",
       "  <tbody>\n",
       "    <tr>\n",
       "      <th>stars</th>\n",
       "      <td>1.000000</td>\n",
       "      <td>-0.098825</td>\n",
       "      <td>-0.089860</td>\n",
       "      <td>0.060101</td>\n",
       "      <td>-0.221752</td>\n",
       "    </tr>\n",
       "    <tr>\n",
       "      <th>useful</th>\n",
       "      <td>-0.098825</td>\n",
       "      <td>1.000000</td>\n",
       "      <td>0.656630</td>\n",
       "      <td>0.525962</td>\n",
       "      <td>0.161592</td>\n",
       "    </tr>\n",
       "    <tr>\n",
       "      <th>funny</th>\n",
       "      <td>-0.089860</td>\n",
       "      <td>0.656630</td>\n",
       "      <td>1.000000</td>\n",
       "      <td>0.741797</td>\n",
       "      <td>0.215003</td>\n",
       "    </tr>\n",
       "    <tr>\n",
       "      <th>cool</th>\n",
       "      <td>0.060101</td>\n",
       "      <td>0.525962</td>\n",
       "      <td>0.741797</td>\n",
       "      <td>1.000000</td>\n",
       "      <td>0.193500</td>\n",
       "    </tr>\n",
       "    <tr>\n",
       "      <th>text_length</th>\n",
       "      <td>-0.221752</td>\n",
       "      <td>0.161592</td>\n",
       "      <td>0.215003</td>\n",
       "      <td>0.193500</td>\n",
       "      <td>1.000000</td>\n",
       "    </tr>\n",
       "  </tbody>\n",
       "</table>\n",
       "</div>"
      ],
      "text/plain": [
       "                stars    useful     funny      cool  text_length\n",
       "stars        1.000000 -0.098825 -0.089860  0.060101    -0.221752\n",
       "useful      -0.098825  1.000000  0.656630  0.525962     0.161592\n",
       "funny       -0.089860  0.656630  1.000000  0.741797     0.215003\n",
       "cool         0.060101  0.525962  0.741797  1.000000     0.193500\n",
       "text_length -0.221752  0.161592  0.215003  0.193500     1.000000"
      ]
     },
     "execution_count": 83,
     "metadata": {},
     "output_type": "execute_result"
    }
   ],
   "source": [
    "data.corr()"
   ]
  },
  {
   "cell_type": "code",
   "execution_count": 84,
   "metadata": {},
   "outputs": [
    {
     "data": {
      "text/plain": [
       "<AxesSubplot:>"
      ]
     },
     "execution_count": 84,
     "metadata": {},
     "output_type": "execute_result"
    },
    {
     "data": {
      "image/png": "[encoded data removed]",
      "text/plain": [
       "<Figure size 432x288 with 2 Axes>"
      ]
     },
     "metadata": {
      "needs_background": "light"
     },
     "output_type": "display_data"
    }
   ],
   "source": [
    "sns.heatmap(data.corr(), cmap = 'coolwarm')"
   ]
  },
  {
   "cell_type": "markdown",
   "metadata": {},
   "source": [
    "## 2) text에서 기호제거하기"
   ]
  },
  {
   "cell_type": "code",
   "execution_count": 85,
   "metadata": {},
   "outputs": [
    {
     "data": {
      "text/plain": [
       "2967245    LOVE the cheeses here.  They are worth the pri...\n",
       "4773684    This has become our go-to sushi place. The sus...\n",
       "1139855    I was very disappointed with the hotel. The re...\n",
       "3997153    Love this place - super amazing - staff here i...\n",
       "4262000    Thank you Dana!!!! Having dyed my hair black p...\n",
       "                                 ...                        \n",
       "1567641    I'm a sucker for places like this. Get me in f...\n",
       "4910763    Extremely rude staff!  Was told 4 min on a lar...\n",
       "1036315    I live in NYC and went to the RTR here in the ...\n",
       "555962     If you are looking for a trainer, then look no...\n",
       "838267     Awesome food. Awesome beer. Awesome service. N...\n",
       "Name: text, Length: 10000, dtype: object"
      ]
     },
     "execution_count": 85,
     "metadata": {},
     "output_type": "execute_result"
    }
   ],
   "source": [
    "data['text']"
   ]
  },
  {
   "cell_type": "code",
   "execution_count": 86,
   "metadata": {},
   "outputs": [],
   "source": [
    "import string"
   ]
  },
  {
   "cell_type": "code",
   "execution_count": 87,
   "metadata": {},
   "outputs": [
    {
     "data": {
      "text/plain": [
       "'!\"#$%&\\'()*+,-./:;<=>?@[\\\\]^_`{|}~'"
      ]
     },
     "execution_count": 87,
     "metadata": {},
     "output_type": "execute_result"
    }
   ],
   "source": [
    "string.punctuation"
   ]
  },
  {
   "cell_type": "code",
   "execution_count": 88,
   "metadata": {},
   "outputs": [],
   "source": [
    "s = data.iloc[0]['text']"
   ]
  },
  {
   "cell_type": "code",
   "execution_count": 89,
   "metadata": {
    "scrolled": true
   },
   "outputs": [
    {
     "data": {
      "text/plain": [
       "'LOVE the cheeses here.  They are worth the price.  Great for finding treats for a special dinner or picnic.  Nice on sample days. Yum!!! Top quality meats. Nice selection of non brand frozen veggies.  Veggie chips are mega tasty.  Always quick and friendly check out.  Produce not as stellar as it once was, but also not finding better in Madison.'"
      ]
     },
     "execution_count": 89,
     "metadata": {},
     "output_type": "execute_result"
    }
   ],
   "source": [
    "s"
   ]
  },
  {
   "cell_type": "markdown",
   "metadata": {},
   "source": [
    "+ def이용"
   ]
  },
  {
   "cell_type": "code",
   "execution_count": 90,
   "metadata": {},
   "outputs": [],
   "source": [
    "def remove_punc(x):\n",
    "    new_s = []\n",
    "    for i in x:\n",
    "        if i not in string.punctuation:\n",
    "            new_s.append(i)\n",
    "    new_s = ''.join(new_s)\n",
    "    return new_s    "
   ]
  },
  {
   "cell_type": "code",
   "execution_count": 91,
   "metadata": {},
   "outputs": [
    {
     "data": {
      "text/plain": [
       "['love',\n",
       " 'cheeses',\n",
       " 'here.',\n",
       " 'worth',\n",
       " 'price.',\n",
       " 'great',\n",
       " 'finding',\n",
       " 'treats',\n",
       " 'special',\n",
       " 'dinner',\n",
       " 'picnic.',\n",
       " 'nice',\n",
       " 'sample',\n",
       " 'days.',\n",
       " 'yum!!!',\n",
       " 'top',\n",
       " 'quality',\n",
       " 'meats.',\n",
       " 'nice',\n",
       " 'selection',\n",
       " 'non',\n",
       " 'brand',\n",
       " 'frozen',\n",
       " 'veggies.',\n",
       " 'veggie',\n",
       " 'chips',\n",
       " 'mega',\n",
       " 'tasty.',\n",
       " 'always',\n",
       " 'quick',\n",
       " 'friendly',\n",
       " 'check',\n",
       " 'out.',\n",
       " 'produce',\n",
       " 'stellar',\n",
       " 'was,',\n",
       " 'also',\n",
       " 'finding',\n",
       " 'better',\n",
       " 'madison.']"
      ]
     },
     "execution_count": 91,
     "metadata": {},
     "output_type": "execute_result"
    }
   ],
   "source": [
    "new_s"
   ]
  },
  {
   "cell_type": "code",
   "execution_count": 92,
   "metadata": {},
   "outputs": [
    {
     "data": {
      "text/plain": [
       "'lovecheeseshere.worthprice.greatfindingtreatsspecialdinnerpicnic.nicesampledays.yum!!!topqualitymeats.niceselectionnonbrandfrozenveggies.veggiechipsmegatasty.alwaysquickfriendlycheckout.producestellarwas,alsofindingbettermadison.'"
      ]
     },
     "execution_count": 92,
     "metadata": {},
     "output_type": "execute_result"
    }
   ],
   "source": [
    "''.join(new_s)  # 공백으로 new_s에 들어있는 string 연결"
   ]
  },
  {
   "cell_type": "code",
   "execution_count": 93,
   "metadata": {},
   "outputs": [
    {
     "data": {
      "text/plain": [
       "2967245    LOVE the cheeses here  They are worth the pric...\n",
       "4773684    This has become our goto sushi place The sushi...\n",
       "1139855    I was very disappointed with the hotel The res...\n",
       "3997153    Love this place  super amazing  staff here is ...\n",
       "4262000    Thank you Dana Having dyed my hair black previ...\n",
       "                                 ...                        \n",
       "1567641    Im a sucker for places like this Get me in fro...\n",
       "4910763    Extremely rude staff  Was told 4 min on a larg...\n",
       "1036315    I live in NYC and went to the RTR here in the ...\n",
       "555962     If you are looking for a trainer then look no ...\n",
       "838267     Awesome food Awesome beer Awesome service Need...\n",
       "Name: text, Length: 10000, dtype: object"
      ]
     },
     "execution_count": 93,
     "metadata": {},
     "output_type": "execute_result"
    }
   ],
   "source": [
    "data['text'].apply(remove_punc)"
   ]
  },
  {
   "cell_type": "markdown",
   "metadata": {},
   "source": [
    "+ 한 번에 처리"
   ]
  },
  {
   "cell_type": "code",
   "execution_count": 94,
   "metadata": {},
   "outputs": [
    {
     "data": {
      "text/plain": [
       "'LOVE the cheeses here  They are worth the price  Great for finding treats for a special dinner or picnic  Nice on sample days Yum Top quality meats Nice selection of non brand frozen veggies  Veggie chips are mega tasty  Always quick and friendly check out  Produce not as stellar as it once was but also not finding better in Madison'"
      ]
     },
     "execution_count": 94,
     "metadata": {},
     "output_type": "execute_result"
    }
   ],
   "source": [
    "''.join([i for i in s if i not in string.punctuation])"
   ]
  },
  {
   "cell_type": "code",
   "execution_count": 95,
   "metadata": {},
   "outputs": [],
   "source": [
    "data['text'] = data['text'].apply(lambda x : ''.join([i for i in x if i not in string.punctuation]))"
   ]
  },
  {
   "cell_type": "code",
   "execution_count": 96,
   "metadata": {},
   "outputs": [
    {
     "data": {
      "text/html": [
       "<div>\n",
       "<style scoped>\n",
       "    .dataframe tbody tr th:only-of-type {\n",
       "        vertical-align: middle;\n",
       "    }\n",
       "\n",
       "    .dataframe tbody tr th {\n",
       "        vertical-align: top;\n",
       "    }\n",
       "\n",
       "    .dataframe thead th {\n",
       "        text-align: right;\n",
       "    }\n",
       "</style>\n",
       "<table border=\"1\" class=\"dataframe\">\n",
       "  <thead>\n",
       "    <tr style=\"text-align: right;\">\n",
       "      <th></th>\n",
       "      <th>stars</th>\n",
       "      <th>text</th>\n",
       "      <th>useful</th>\n",
       "      <th>funny</th>\n",
       "      <th>cool</th>\n",
       "      <th>text_length</th>\n",
       "    </tr>\n",
       "  </thead>\n",
       "  <tbody>\n",
       "    <tr>\n",
       "      <th>2967245</th>\n",
       "      <td>5</td>\n",
       "      <td>LOVE the cheeses here  They are worth the pric...</td>\n",
       "      <td>0</td>\n",
       "      <td>0</td>\n",
       "      <td>1</td>\n",
       "      <td>347</td>\n",
       "    </tr>\n",
       "    <tr>\n",
       "      <th>4773684</th>\n",
       "      <td>5</td>\n",
       "      <td>This has become our goto sushi place The sushi...</td>\n",
       "      <td>0</td>\n",
       "      <td>0</td>\n",
       "      <td>0</td>\n",
       "      <td>377</td>\n",
       "    </tr>\n",
       "    <tr>\n",
       "      <th>1139855</th>\n",
       "      <td>1</td>\n",
       "      <td>I was very disappointed with the hotel The res...</td>\n",
       "      <td>2</td>\n",
       "      <td>1</td>\n",
       "      <td>1</td>\n",
       "      <td>663</td>\n",
       "    </tr>\n",
       "    <tr>\n",
       "      <th>3997153</th>\n",
       "      <td>5</td>\n",
       "      <td>Love this place  super amazing  staff here is ...</td>\n",
       "      <td>0</td>\n",
       "      <td>0</td>\n",
       "      <td>0</td>\n",
       "      <td>141</td>\n",
       "    </tr>\n",
       "    <tr>\n",
       "      <th>4262000</th>\n",
       "      <td>5</td>\n",
       "      <td>Thank you Dana Having dyed my hair black previ...</td>\n",
       "      <td>0</td>\n",
       "      <td>0</td>\n",
       "      <td>0</td>\n",
       "      <td>455</td>\n",
       "    </tr>\n",
       "    <tr>\n",
       "      <th>...</th>\n",
       "      <td>...</td>\n",
       "      <td>...</td>\n",
       "      <td>...</td>\n",
       "      <td>...</td>\n",
       "      <td>...</td>\n",
       "      <td>...</td>\n",
       "    </tr>\n",
       "    <tr>\n",
       "      <th>1567641</th>\n",
       "      <td>5</td>\n",
       "      <td>Im a sucker for places like this Get me in fro...</td>\n",
       "      <td>3</td>\n",
       "      <td>1</td>\n",
       "      <td>3</td>\n",
       "      <td>779</td>\n",
       "    </tr>\n",
       "    <tr>\n",
       "      <th>4910763</th>\n",
       "      <td>1</td>\n",
       "      <td>Extremely rude staff  Was told 4 min on a larg...</td>\n",
       "      <td>0</td>\n",
       "      <td>0</td>\n",
       "      <td>0</td>\n",
       "      <td>268</td>\n",
       "    </tr>\n",
       "    <tr>\n",
       "      <th>1036315</th>\n",
       "      <td>5</td>\n",
       "      <td>I live in NYC and went to the RTR here in the ...</td>\n",
       "      <td>1</td>\n",
       "      <td>0</td>\n",
       "      <td>0</td>\n",
       "      <td>1288</td>\n",
       "    </tr>\n",
       "    <tr>\n",
       "      <th>555962</th>\n",
       "      <td>5</td>\n",
       "      <td>If you are looking for a trainer then look no ...</td>\n",
       "      <td>0</td>\n",
       "      <td>0</td>\n",
       "      <td>0</td>\n",
       "      <td>1160</td>\n",
       "    </tr>\n",
       "    <tr>\n",
       "      <th>838267</th>\n",
       "      <td>5</td>\n",
       "      <td>Awesome food Awesome beer Awesome service Need...</td>\n",
       "      <td>0</td>\n",
       "      <td>0</td>\n",
       "      <td>1</td>\n",
       "      <td>137</td>\n",
       "    </tr>\n",
       "  </tbody>\n",
       "</table>\n",
       "<p>10000 rows × 6 columns</p>\n",
       "</div>"
      ],
      "text/plain": [
       "         stars                                               text  useful  \\\n",
       "2967245      5  LOVE the cheeses here  They are worth the pric...       0   \n",
       "4773684      5  This has become our goto sushi place The sushi...       0   \n",
       "1139855      1  I was very disappointed with the hotel The res...       2   \n",
       "3997153      5  Love this place  super amazing  staff here is ...       0   \n",
       "4262000      5  Thank you Dana Having dyed my hair black previ...       0   \n",
       "...        ...                                                ...     ...   \n",
       "1567641      5  Im a sucker for places like this Get me in fro...       3   \n",
       "4910763      1  Extremely rude staff  Was told 4 min on a larg...       0   \n",
       "1036315      5  I live in NYC and went to the RTR here in the ...       1   \n",
       "555962       5  If you are looking for a trainer then look no ...       0   \n",
       "838267       5  Awesome food Awesome beer Awesome service Need...       0   \n",
       "\n",
       "         funny  cool  text_length  \n",
       "2967245      0     1          347  \n",
       "4773684      0     0          377  \n",
       "1139855      1     1          663  \n",
       "3997153      0     0          141  \n",
       "4262000      0     0          455  \n",
       "...        ...   ...          ...  \n",
       "1567641      1     3          779  \n",
       "4910763      0     0          268  \n",
       "1036315      0     0         1288  \n",
       "555962       0     0         1160  \n",
       "838267       0     1          137  \n",
       "\n",
       "[10000 rows x 6 columns]"
      ]
     },
     "execution_count": 96,
     "metadata": {},
     "output_type": "execute_result"
    }
   ],
   "source": [
    "data"
   ]
  },
  {
   "cell_type": "markdown",
   "metadata": {},
   "source": [
    "## 3) 상투적인 단어 제거하기"
   ]
  },
  {
   "cell_type": "code",
   "execution_count": 97,
   "metadata": {},
   "outputs": [],
   "source": [
    "from nltk.corpus import stopwords"
   ]
  },
  {
   "cell_type": "code",
   "execution_count": 98,
   "metadata": {},
   "outputs": [
    {
     "name": "stderr",
     "output_type": "stream",
     "text": [
      "[nltk_data] Downloading package stopwords to\n",
      "[nltk_data]     C:\\Users\\minky\\AppData\\Roaming\\nltk_data...\n",
      "[nltk_data]   Package stopwords is already up-to-date!\n"
     ]
    },
    {
     "data": {
      "text/plain": [
       "True"
      ]
     },
     "execution_count": 98,
     "metadata": {},
     "output_type": "execute_result"
    }
   ],
   "source": [
    "import nltk\n",
    "nltk.download('stopwords')"
   ]
  },
  {
   "cell_type": "code",
   "execution_count": 99,
   "metadata": {},
   "outputs": [
    {
     "data": {
      "text/plain": [
       "['i',\n",
       " 'me',\n",
       " 'my',\n",
       " 'myself',\n",
       " 'we',\n",
       " 'our',\n",
       " 'ours',\n",
       " 'ourselves',\n",
       " 'you',\n",
       " \"you're\",\n",
       " \"you've\",\n",
       " \"you'll\",\n",
       " \"you'd\",\n",
       " 'your',\n",
       " 'yours',\n",
       " 'yourself',\n",
       " 'yourselves',\n",
       " 'he',\n",
       " 'him',\n",
       " 'his',\n",
       " 'himself',\n",
       " 'she',\n",
       " \"she's\",\n",
       " 'her',\n",
       " 'hers',\n",
       " 'herself',\n",
       " 'it',\n",
       " \"it's\",\n",
       " 'its',\n",
       " 'itself',\n",
       " 'they',\n",
       " 'them',\n",
       " 'their',\n",
       " 'theirs',\n",
       " 'themselves',\n",
       " 'what',\n",
       " 'which',\n",
       " 'who',\n",
       " 'whom',\n",
       " 'this',\n",
       " 'that',\n",
       " \"that'll\",\n",
       " 'these',\n",
       " 'those',\n",
       " 'am',\n",
       " 'is',\n",
       " 'are',\n",
       " 'was',\n",
       " 'were',\n",
       " 'be',\n",
       " 'been',\n",
       " 'being',\n",
       " 'have',\n",
       " 'has',\n",
       " 'had',\n",
       " 'having',\n",
       " 'do',\n",
       " 'does',\n",
       " 'did',\n",
       " 'doing',\n",
       " 'a',\n",
       " 'an',\n",
       " 'the',\n",
       " 'and',\n",
       " 'but',\n",
       " 'if',\n",
       " 'or',\n",
       " 'because',\n",
       " 'as',\n",
       " 'until',\n",
       " 'while',\n",
       " 'of',\n",
       " 'at',\n",
       " 'by',\n",
       " 'for',\n",
       " 'with',\n",
       " 'about',\n",
       " 'against',\n",
       " 'between',\n",
       " 'into',\n",
       " 'through',\n",
       " 'during',\n",
       " 'before',\n",
       " 'after',\n",
       " 'above',\n",
       " 'below',\n",
       " 'to',\n",
       " 'from',\n",
       " 'up',\n",
       " 'down',\n",
       " 'in',\n",
       " 'out',\n",
       " 'on',\n",
       " 'off',\n",
       " 'over',\n",
       " 'under',\n",
       " 'again',\n",
       " 'further',\n",
       " 'then',\n",
       " 'once',\n",
       " 'here',\n",
       " 'there',\n",
       " 'when',\n",
       " 'where',\n",
       " 'why',\n",
       " 'how',\n",
       " 'all',\n",
       " 'any',\n",
       " 'both',\n",
       " 'each',\n",
       " 'few',\n",
       " 'more',\n",
       " 'most',\n",
       " 'other',\n",
       " 'some',\n",
       " 'such',\n",
       " 'no',\n",
       " 'nor',\n",
       " 'not',\n",
       " 'only',\n",
       " 'own',\n",
       " 'same',\n",
       " 'so',\n",
       " 'than',\n",
       " 'too',\n",
       " 'very',\n",
       " 's',\n",
       " 't',\n",
       " 'can',\n",
       " 'will',\n",
       " 'just',\n",
       " 'don',\n",
       " \"don't\",\n",
       " 'should',\n",
       " \"should've\",\n",
       " 'now',\n",
       " 'd',\n",
       " 'll',\n",
       " 'm',\n",
       " 'o',\n",
       " 're',\n",
       " 've',\n",
       " 'y',\n",
       " 'ain',\n",
       " 'aren',\n",
       " \"aren't\",\n",
       " 'couldn',\n",
       " \"couldn't\",\n",
       " 'didn',\n",
       " \"didn't\",\n",
       " 'doesn',\n",
       " \"doesn't\",\n",
       " 'hadn',\n",
       " \"hadn't\",\n",
       " 'hasn',\n",
       " \"hasn't\",\n",
       " 'haven',\n",
       " \"haven't\",\n",
       " 'isn',\n",
       " \"isn't\",\n",
       " 'ma',\n",
       " 'mightn',\n",
       " \"mightn't\",\n",
       " 'mustn',\n",
       " \"mustn't\",\n",
       " 'needn',\n",
       " \"needn't\",\n",
       " 'shan',\n",
       " \"shan't\",\n",
       " 'shouldn',\n",
       " \"shouldn't\",\n",
       " 'wasn',\n",
       " \"wasn't\",\n",
       " 'weren',\n",
       " \"weren't\",\n",
       " 'won',\n",
       " \"won't\",\n",
       " 'wouldn',\n",
       " \"wouldn't\"]"
      ]
     },
     "execution_count": 99,
     "metadata": {},
     "output_type": "execute_result"
    }
   ],
   "source": [
    "stopwords.words('english')"
   ]
  },
  {
   "cell_type": "code",
   "execution_count": 100,
   "metadata": {},
   "outputs": [
    {
     "data": {
      "text/plain": [
       "2967245    LOVE the cheeses here  They are worth the pric...\n",
       "4773684    This has become our goto sushi place The sushi...\n",
       "1139855    I was very disappointed with the hotel The res...\n",
       "3997153    Love this place  super amazing  staff here is ...\n",
       "4262000    Thank you Dana Having dyed my hair black previ...\n",
       "                                 ...                        \n",
       "1567641    Im a sucker for places like this Get me in fro...\n",
       "4910763    Extremely rude staff  Was told 4 min on a larg...\n",
       "1036315    I live in NYC and went to the RTR here in the ...\n",
       "555962     If you are looking for a trainer then look no ...\n",
       "838267     Awesome food Awesome beer Awesome service Need...\n",
       "Name: text, Length: 10000, dtype: object"
      ]
     },
     "execution_count": 100,
     "metadata": {},
     "output_type": "execute_result"
    }
   ],
   "source": [
    "data['text']"
   ]
  },
  {
   "cell_type": "code",
   "execution_count": 101,
   "metadata": {},
   "outputs": [
    {
     "data": {
      "text/plain": [
       "'LOVE the cheeses here.  They are worth the price.  Great for finding treats for a special dinner or picnic.  Nice on sample days. Yum!!! Top quality meats. Nice selection of non brand frozen veggies.  Veggie chips are mega tasty.  Always quick and friendly check out.  Produce not as stellar as it once was, but also not finding better in Madison.'"
      ]
     },
     "execution_count": 101,
     "metadata": {},
     "output_type": "execute_result"
    }
   ],
   "source": [
    "s"
   ]
  },
  {
   "cell_type": "code",
   "execution_count": 102,
   "metadata": {},
   "outputs": [
    {
     "data": {
      "text/plain": [
       "['LOVE',\n",
       " 'the',\n",
       " 'cheeses',\n",
       " 'here.',\n",
       " 'They',\n",
       " 'are',\n",
       " 'worth',\n",
       " 'the',\n",
       " 'price.',\n",
       " 'Great',\n",
       " 'for',\n",
       " 'finding',\n",
       " 'treats',\n",
       " 'for',\n",
       " 'a',\n",
       " 'special',\n",
       " 'dinner',\n",
       " 'or',\n",
       " 'picnic.',\n",
       " 'Nice',\n",
       " 'on',\n",
       " 'sample',\n",
       " 'days.',\n",
       " 'Yum!!!',\n",
       " 'Top',\n",
       " 'quality',\n",
       " 'meats.',\n",
       " 'Nice',\n",
       " 'selection',\n",
       " 'of',\n",
       " 'non',\n",
       " 'brand',\n",
       " 'frozen',\n",
       " 'veggies.',\n",
       " 'Veggie',\n",
       " 'chips',\n",
       " 'are',\n",
       " 'mega',\n",
       " 'tasty.',\n",
       " 'Always',\n",
       " 'quick',\n",
       " 'and',\n",
       " 'friendly',\n",
       " 'check',\n",
       " 'out.',\n",
       " 'Produce',\n",
       " 'not',\n",
       " 'as',\n",
       " 'stellar',\n",
       " 'as',\n",
       " 'it',\n",
       " 'once',\n",
       " 'was,',\n",
       " 'but',\n",
       " 'also',\n",
       " 'not',\n",
       " 'finding',\n",
       " 'better',\n",
       " 'in',\n",
       " 'Madison.']"
      ]
     },
     "execution_count": 102,
     "metadata": {},
     "output_type": "execute_result"
    }
   ],
   "source": [
    "# 공백기준으로 나누기\n",
    "s.split()"
   ]
  },
  {
   "cell_type": "code",
   "execution_count": 103,
   "metadata": {},
   "outputs": [
    {
     "data": {
      "text/plain": [
       "'love the cheeses here.  they are worth the price.  great for finding treats for a special dinner or picnic.  nice on sample days. yum!!! top quality meats. nice selection of non brand frozen veggies.  veggie chips are mega tasty.  always quick and friendly check out.  produce not as stellar as it once was, but also not finding better in madison.'"
      ]
     },
     "execution_count": 103,
     "metadata": {},
     "output_type": "execute_result"
    }
   ],
   "source": [
    "# 대문자 -> 소문자\n",
    "s.lower()"
   ]
  },
  {
   "cell_type": "code",
   "execution_count": 104,
   "metadata": {},
   "outputs": [],
   "source": [
    "# 상투적인 단어 필터링\n",
    "new_s = []\n",
    "for i in s.split():\n",
    "    if i.lower() not in stopwords.words('english'):\n",
    "        new_s.append(i.lower())"
   ]
  },
  {
   "cell_type": "code",
   "execution_count": 105,
   "metadata": {},
   "outputs": [
    {
     "data": {
      "text/plain": [
       "['love',\n",
       " 'cheeses',\n",
       " 'here.',\n",
       " 'worth',\n",
       " 'price.',\n",
       " 'great',\n",
       " 'finding',\n",
       " 'treats',\n",
       " 'special',\n",
       " 'dinner',\n",
       " 'picnic.',\n",
       " 'nice',\n",
       " 'sample',\n",
       " 'days.',\n",
       " 'yum!!!',\n",
       " 'top',\n",
       " 'quality',\n",
       " 'meats.',\n",
       " 'nice',\n",
       " 'selection',\n",
       " 'non',\n",
       " 'brand',\n",
       " 'frozen',\n",
       " 'veggies.',\n",
       " 'veggie',\n",
       " 'chips',\n",
       " 'mega',\n",
       " 'tasty.',\n",
       " 'always',\n",
       " 'quick',\n",
       " 'friendly',\n",
       " 'check',\n",
       " 'out.',\n",
       " 'produce',\n",
       " 'stellar',\n",
       " 'was,',\n",
       " 'also',\n",
       " 'finding',\n",
       " 'better',\n",
       " 'madison.']"
      ]
     },
     "execution_count": 105,
     "metadata": {},
     "output_type": "execute_result"
    }
   ],
   "source": [
    "new_s"
   ]
  },
  {
   "cell_type": "code",
   "execution_count": 106,
   "metadata": {},
   "outputs": [],
   "source": [
    "# 상투적인 단어 필터링: 함수\n",
    "def stop_w(x):\n",
    "    new_s = []\n",
    "    for i in s.split():\n",
    "        if i.lower() not in stopwords.words('english'):\n",
    "            new_s.append(i.lower())\n",
    "    return new_s"
   ]
  },
  {
   "cell_type": "code",
   "execution_count": 107,
   "metadata": {},
   "outputs": [
    {
     "ename": "KeyboardInterrupt",
     "evalue": "",
     "output_type": "error",
     "traceback": [
      "\u001b[1;31m---------------------------------------------------------------------------\u001b[0m",
      "\u001b[1;31mKeyboardInterrupt\u001b[0m                         Traceback (most recent call last)",
      "\u001b[1;32m<ipython-input-107-0a23c08b7bf0>\u001b[0m in \u001b[0;36m<module>\u001b[1;34m\u001b[0m\n\u001b[1;32m----> 1\u001b[1;33m \u001b[0mdata\u001b[0m\u001b[1;33m[\u001b[0m\u001b[1;34m'text'\u001b[0m\u001b[1;33m]\u001b[0m\u001b[1;33m.\u001b[0m\u001b[0mapply\u001b[0m\u001b[1;33m(\u001b[0m\u001b[0mstop_w\u001b[0m\u001b[1;33m)\u001b[0m\u001b[1;33m\u001b[0m\u001b[1;33m\u001b[0m\u001b[0m\n\u001b[0m",
      "\u001b[1;32mc:\\users\\minky\\anaconda3\\envs\\minky\\lib\\site-packages\\pandas\\core\\series.py\u001b[0m in \u001b[0;36mapply\u001b[1;34m(self, func, convert_dtype, args, **kwds)\u001b[0m\n\u001b[0;32m   4136\u001b[0m             \u001b[1;32melse\u001b[0m\u001b[1;33m:\u001b[0m\u001b[1;33m\u001b[0m\u001b[1;33m\u001b[0m\u001b[0m\n\u001b[0;32m   4137\u001b[0m                 \u001b[0mvalues\u001b[0m \u001b[1;33m=\u001b[0m \u001b[0mself\u001b[0m\u001b[1;33m.\u001b[0m\u001b[0mastype\u001b[0m\u001b[1;33m(\u001b[0m\u001b[0mobject\u001b[0m\u001b[1;33m)\u001b[0m\u001b[1;33m.\u001b[0m\u001b[0m_values\u001b[0m\u001b[1;33m\u001b[0m\u001b[1;33m\u001b[0m\u001b[0m\n\u001b[1;32m-> 4138\u001b[1;33m                 \u001b[0mmapped\u001b[0m \u001b[1;33m=\u001b[0m \u001b[0mlib\u001b[0m\u001b[1;33m.\u001b[0m\u001b[0mmap_infer\u001b[0m\u001b[1;33m(\u001b[0m\u001b[0mvalues\u001b[0m\u001b[1;33m,\u001b[0m \u001b[0mf\u001b[0m\u001b[1;33m,\u001b[0m \u001b[0mconvert\u001b[0m\u001b[1;33m=\u001b[0m\u001b[0mconvert_dtype\u001b[0m\u001b[1;33m)\u001b[0m\u001b[1;33m\u001b[0m\u001b[1;33m\u001b[0m\u001b[0m\n\u001b[0m\u001b[0;32m   4139\u001b[0m \u001b[1;33m\u001b[0m\u001b[0m\n\u001b[0;32m   4140\u001b[0m         \u001b[1;32mif\u001b[0m \u001b[0mlen\u001b[0m\u001b[1;33m(\u001b[0m\u001b[0mmapped\u001b[0m\u001b[1;33m)\u001b[0m \u001b[1;32mand\u001b[0m \u001b[0misinstance\u001b[0m\u001b[1;33m(\u001b[0m\u001b[0mmapped\u001b[0m\u001b[1;33m[\u001b[0m\u001b[1;36m0\u001b[0m\u001b[1;33m]\u001b[0m\u001b[1;33m,\u001b[0m \u001b[0mSeries\u001b[0m\u001b[1;33m)\u001b[0m\u001b[1;33m:\u001b[0m\u001b[1;33m\u001b[0m\u001b[1;33m\u001b[0m\u001b[0m\n",
      "\u001b[1;32mpandas\\_libs\\lib.pyx\u001b[0m in \u001b[0;36mpandas._libs.lib.map_infer\u001b[1;34m()\u001b[0m\n",
      "\u001b[1;32m<ipython-input-106-80aef559aaae>\u001b[0m in \u001b[0;36mstop_w\u001b[1;34m(x)\u001b[0m\n\u001b[0;32m      3\u001b[0m     \u001b[0mnew_s\u001b[0m \u001b[1;33m=\u001b[0m \u001b[1;33m[\u001b[0m\u001b[1;33m]\u001b[0m\u001b[1;33m\u001b[0m\u001b[1;33m\u001b[0m\u001b[0m\n\u001b[0;32m      4\u001b[0m     \u001b[1;32mfor\u001b[0m \u001b[0mi\u001b[0m \u001b[1;32min\u001b[0m \u001b[0ms\u001b[0m\u001b[1;33m.\u001b[0m\u001b[0msplit\u001b[0m\u001b[1;33m(\u001b[0m\u001b[1;33m)\u001b[0m\u001b[1;33m:\u001b[0m\u001b[1;33m\u001b[0m\u001b[1;33m\u001b[0m\u001b[0m\n\u001b[1;32m----> 5\u001b[1;33m         \u001b[1;32mif\u001b[0m \u001b[0mi\u001b[0m\u001b[1;33m.\u001b[0m\u001b[0mlower\u001b[0m\u001b[1;33m(\u001b[0m\u001b[1;33m)\u001b[0m \u001b[1;32mnot\u001b[0m \u001b[1;32min\u001b[0m \u001b[0mstopwords\u001b[0m\u001b[1;33m.\u001b[0m\u001b[0mwords\u001b[0m\u001b[1;33m(\u001b[0m\u001b[1;34m'english'\u001b[0m\u001b[1;33m)\u001b[0m\u001b[1;33m:\u001b[0m\u001b[1;33m\u001b[0m\u001b[1;33m\u001b[0m\u001b[0m\n\u001b[0m\u001b[0;32m      6\u001b[0m             \u001b[0mnew_s\u001b[0m\u001b[1;33m.\u001b[0m\u001b[0mappend\u001b[0m\u001b[1;33m(\u001b[0m\u001b[0mi\u001b[0m\u001b[1;33m.\u001b[0m\u001b[0mlower\u001b[0m\u001b[1;33m(\u001b[0m\u001b[1;33m)\u001b[0m\u001b[1;33m)\u001b[0m\u001b[1;33m\u001b[0m\u001b[1;33m\u001b[0m\u001b[0m\n\u001b[0;32m      7\u001b[0m     \u001b[1;32mreturn\u001b[0m \u001b[0mnew_s\u001b[0m\u001b[1;33m\u001b[0m\u001b[1;33m\u001b[0m\u001b[0m\n",
      "\u001b[1;32mc:\\users\\minky\\anaconda3\\envs\\minky\\lib\\site-packages\\nltk\\corpus\\reader\\wordlist.py\u001b[0m in \u001b[0;36mwords\u001b[1;34m(self, fileids, ignore_lines_startswith)\u001b[0m\n\u001b[0;32m     21\u001b[0m         return [\n\u001b[0;32m     22\u001b[0m             \u001b[0mline\u001b[0m\u001b[1;33m\u001b[0m\u001b[1;33m\u001b[0m\u001b[0m\n\u001b[1;32m---> 23\u001b[1;33m             \u001b[1;32mfor\u001b[0m \u001b[0mline\u001b[0m \u001b[1;32min\u001b[0m \u001b[0mline_tokenize\u001b[0m\u001b[1;33m(\u001b[0m\u001b[0mself\u001b[0m\u001b[1;33m.\u001b[0m\u001b[0mraw\u001b[0m\u001b[1;33m(\u001b[0m\u001b[0mfileids\u001b[0m\u001b[1;33m)\u001b[0m\u001b[1;33m)\u001b[0m\u001b[1;33m\u001b[0m\u001b[1;33m\u001b[0m\u001b[0m\n\u001b[0m\u001b[0;32m     24\u001b[0m             \u001b[1;32mif\u001b[0m \u001b[1;32mnot\u001b[0m \u001b[0mline\u001b[0m\u001b[1;33m.\u001b[0m\u001b[0mstartswith\u001b[0m\u001b[1;33m(\u001b[0m\u001b[0mignore_lines_startswith\u001b[0m\u001b[1;33m)\u001b[0m\u001b[1;33m\u001b[0m\u001b[1;33m\u001b[0m\u001b[0m\n\u001b[0;32m     25\u001b[0m         ]\n",
      "\u001b[1;32mc:\\users\\minky\\anaconda3\\envs\\minky\\lib\\site-packages\\nltk\\corpus\\reader\\wordlist.py\u001b[0m in \u001b[0;36mraw\u001b[1;34m(self, fileids)\u001b[0m\n\u001b[0;32m     30\u001b[0m         \u001b[1;32melif\u001b[0m \u001b[0misinstance\u001b[0m\u001b[1;33m(\u001b[0m\u001b[0mfileids\u001b[0m\u001b[1;33m,\u001b[0m \u001b[0mstr\u001b[0m\u001b[1;33m)\u001b[0m\u001b[1;33m:\u001b[0m\u001b[1;33m\u001b[0m\u001b[1;33m\u001b[0m\u001b[0m\n\u001b[0;32m     31\u001b[0m             \u001b[0mfileids\u001b[0m \u001b[1;33m=\u001b[0m \u001b[1;33m[\u001b[0m\u001b[0mfileids\u001b[0m\u001b[1;33m]\u001b[0m\u001b[1;33m\u001b[0m\u001b[1;33m\u001b[0m\u001b[0m\n\u001b[1;32m---> 32\u001b[1;33m         \u001b[1;32mreturn\u001b[0m \u001b[0mconcat\u001b[0m\u001b[1;33m(\u001b[0m\u001b[1;33m[\u001b[0m\u001b[0mself\u001b[0m\u001b[1;33m.\u001b[0m\u001b[0mopen\u001b[0m\u001b[1;33m(\u001b[0m\u001b[0mf\u001b[0m\u001b[1;33m)\u001b[0m\u001b[1;33m.\u001b[0m\u001b[0mread\u001b[0m\u001b[1;33m(\u001b[0m\u001b[1;33m)\u001b[0m \u001b[1;32mfor\u001b[0m \u001b[0mf\u001b[0m \u001b[1;32min\u001b[0m \u001b[0mfileids\u001b[0m\u001b[1;33m]\u001b[0m\u001b[1;33m)\u001b[0m\u001b[1;33m\u001b[0m\u001b[1;33m\u001b[0m\u001b[0m\n\u001b[0m\u001b[0;32m     33\u001b[0m \u001b[1;33m\u001b[0m\u001b[0m\n\u001b[0;32m     34\u001b[0m \u001b[1;33m\u001b[0m\u001b[0m\n",
      "\u001b[1;32mc:\\users\\minky\\anaconda3\\envs\\minky\\lib\\site-packages\\nltk\\corpus\\reader\\wordlist.py\u001b[0m in \u001b[0;36m<listcomp>\u001b[1;34m(.0)\u001b[0m\n\u001b[0;32m     30\u001b[0m         \u001b[1;32melif\u001b[0m \u001b[0misinstance\u001b[0m\u001b[1;33m(\u001b[0m\u001b[0mfileids\u001b[0m\u001b[1;33m,\u001b[0m \u001b[0mstr\u001b[0m\u001b[1;33m)\u001b[0m\u001b[1;33m:\u001b[0m\u001b[1;33m\u001b[0m\u001b[1;33m\u001b[0m\u001b[0m\n\u001b[0;32m     31\u001b[0m             \u001b[0mfileids\u001b[0m \u001b[1;33m=\u001b[0m \u001b[1;33m[\u001b[0m\u001b[0mfileids\u001b[0m\u001b[1;33m]\u001b[0m\u001b[1;33m\u001b[0m\u001b[1;33m\u001b[0m\u001b[0m\n\u001b[1;32m---> 32\u001b[1;33m         \u001b[1;32mreturn\u001b[0m \u001b[0mconcat\u001b[0m\u001b[1;33m(\u001b[0m\u001b[1;33m[\u001b[0m\u001b[0mself\u001b[0m\u001b[1;33m.\u001b[0m\u001b[0mopen\u001b[0m\u001b[1;33m(\u001b[0m\u001b[0mf\u001b[0m\u001b[1;33m)\u001b[0m\u001b[1;33m.\u001b[0m\u001b[0mread\u001b[0m\u001b[1;33m(\u001b[0m\u001b[1;33m)\u001b[0m \u001b[1;32mfor\u001b[0m \u001b[0mf\u001b[0m \u001b[1;32min\u001b[0m \u001b[0mfileids\u001b[0m\u001b[1;33m]\u001b[0m\u001b[1;33m)\u001b[0m\u001b[1;33m\u001b[0m\u001b[1;33m\u001b[0m\u001b[0m\n\u001b[0m\u001b[0;32m     33\u001b[0m \u001b[1;33m\u001b[0m\u001b[0m\n\u001b[0;32m     34\u001b[0m \u001b[1;33m\u001b[0m\u001b[0m\n",
      "\u001b[1;32mc:\\users\\minky\\anaconda3\\envs\\minky\\lib\\site-packages\\nltk\\corpus\\reader\\api.py\u001b[0m in \u001b[0;36mopen\u001b[1;34m(self, file)\u001b[0m\n\u001b[0;32m    209\u001b[0m         \"\"\"\n\u001b[0;32m    210\u001b[0m         \u001b[0mencoding\u001b[0m \u001b[1;33m=\u001b[0m \u001b[0mself\u001b[0m\u001b[1;33m.\u001b[0m\u001b[0mencoding\u001b[0m\u001b[1;33m(\u001b[0m\u001b[0mfile\u001b[0m\u001b[1;33m)\u001b[0m\u001b[1;33m\u001b[0m\u001b[1;33m\u001b[0m\u001b[0m\n\u001b[1;32m--> 211\u001b[1;33m         \u001b[0mstream\u001b[0m \u001b[1;33m=\u001b[0m \u001b[0mself\u001b[0m\u001b[1;33m.\u001b[0m\u001b[0m_root\u001b[0m\u001b[1;33m.\u001b[0m\u001b[0mjoin\u001b[0m\u001b[1;33m(\u001b[0m\u001b[0mfile\u001b[0m\u001b[1;33m)\u001b[0m\u001b[1;33m.\u001b[0m\u001b[0mopen\u001b[0m\u001b[1;33m(\u001b[0m\u001b[0mencoding\u001b[0m\u001b[1;33m)\u001b[0m\u001b[1;33m\u001b[0m\u001b[1;33m\u001b[0m\u001b[0m\n\u001b[0m\u001b[0;32m    212\u001b[0m         \u001b[1;32mreturn\u001b[0m \u001b[0mstream\u001b[0m\u001b[1;33m\u001b[0m\u001b[1;33m\u001b[0m\u001b[0m\n\u001b[0;32m    213\u001b[0m \u001b[1;33m\u001b[0m\u001b[0m\n",
      "\u001b[1;32mc:\\users\\minky\\anaconda3\\envs\\minky\\lib\\site-packages\\nltk\\data.py\u001b[0m in \u001b[0;36mopen\u001b[1;34m(self, encoding)\u001b[0m\n\u001b[0;32m    323\u001b[0m \u001b[1;33m\u001b[0m\u001b[0m\n\u001b[0;32m    324\u001b[0m     \u001b[1;32mdef\u001b[0m \u001b[0mopen\u001b[0m\u001b[1;33m(\u001b[0m\u001b[0mself\u001b[0m\u001b[1;33m,\u001b[0m \u001b[0mencoding\u001b[0m\u001b[1;33m=\u001b[0m\u001b[1;32mNone\u001b[0m\u001b[1;33m)\u001b[0m\u001b[1;33m:\u001b[0m\u001b[1;33m\u001b[0m\u001b[1;33m\u001b[0m\u001b[0m\n\u001b[1;32m--> 325\u001b[1;33m         \u001b[0mstream\u001b[0m \u001b[1;33m=\u001b[0m \u001b[0mopen\u001b[0m\u001b[1;33m(\u001b[0m\u001b[0mself\u001b[0m\u001b[1;33m.\u001b[0m\u001b[0m_path\u001b[0m\u001b[1;33m,\u001b[0m \u001b[1;34m\"rb\"\u001b[0m\u001b[1;33m)\u001b[0m\u001b[1;33m\u001b[0m\u001b[1;33m\u001b[0m\u001b[0m\n\u001b[0m\u001b[0;32m    326\u001b[0m         \u001b[1;32mif\u001b[0m \u001b[0mencoding\u001b[0m \u001b[1;32mis\u001b[0m \u001b[1;32mnot\u001b[0m \u001b[1;32mNone\u001b[0m\u001b[1;33m:\u001b[0m\u001b[1;33m\u001b[0m\u001b[1;33m\u001b[0m\u001b[0m\n\u001b[0;32m    327\u001b[0m             \u001b[0mstream\u001b[0m \u001b[1;33m=\u001b[0m \u001b[0mSeekableUnicodeStreamReader\u001b[0m\u001b[1;33m(\u001b[0m\u001b[0mstream\u001b[0m\u001b[1;33m,\u001b[0m \u001b[0mencoding\u001b[0m\u001b[1;33m)\u001b[0m\u001b[1;33m\u001b[0m\u001b[1;33m\u001b[0m\u001b[0m\n",
      "\u001b[1;31mKeyboardInterrupt\u001b[0m: "
     ]
    }
   ],
   "source": [
    "#data['text'].apply(stop_w)"
   ]
  },
  {
   "cell_type": "code",
   "execution_count": null,
   "metadata": {},
   "outputs": [],
   "source": [
    "[i.lower() for i in s.split() if i.lower() not in stopwords.words('english')]"
   ]
  },
  {
   "cell_type": "code",
   "execution_count": 108,
   "metadata": {},
   "outputs": [],
   "source": [
    "data['text'] = data['text'].apply(lambda x: [i.lower() for i in x.split() if i.lower() not in stopwords.words('english')])"
   ]
  },
  {
   "cell_type": "markdown",
   "metadata": {},
   "source": [
    "## 4) 단어빈도 그래프 및 Word Cloud만들기"
   ]
  },
  {
   "cell_type": "code",
   "execution_count": 109,
   "metadata": {},
   "outputs": [
    {
     "data": {
      "text/html": [
       "<div>\n",
       "<style scoped>\n",
       "    .dataframe tbody tr th:only-of-type {\n",
       "        vertical-align: middle;\n",
       "    }\n",
       "\n",
       "    .dataframe tbody tr th {\n",
       "        vertical-align: top;\n",
       "    }\n",
       "\n",
       "    .dataframe thead th {\n",
       "        text-align: right;\n",
       "    }\n",
       "</style>\n",
       "<table border=\"1\" class=\"dataframe\">\n",
       "  <thead>\n",
       "    <tr style=\"text-align: right;\">\n",
       "      <th></th>\n",
       "      <th>stars</th>\n",
       "      <th>text</th>\n",
       "      <th>useful</th>\n",
       "      <th>funny</th>\n",
       "      <th>cool</th>\n",
       "      <th>text_length</th>\n",
       "    </tr>\n",
       "  </thead>\n",
       "  <tbody>\n",
       "    <tr>\n",
       "      <th>2967245</th>\n",
       "      <td>5</td>\n",
       "      <td>[love, cheeses, worth, price, great, finding, ...</td>\n",
       "      <td>0</td>\n",
       "      <td>0</td>\n",
       "      <td>1</td>\n",
       "      <td>347</td>\n",
       "    </tr>\n",
       "    <tr>\n",
       "      <th>4773684</th>\n",
       "      <td>5</td>\n",
       "      <td>[become, goto, sushi, place, sushi, always, fr...</td>\n",
       "      <td>0</td>\n",
       "      <td>0</td>\n",
       "      <td>0</td>\n",
       "      <td>377</td>\n",
       "    </tr>\n",
       "    <tr>\n",
       "      <th>1139855</th>\n",
       "      <td>1</td>\n",
       "      <td>[disappointed, hotel, restaurants, good, booke...</td>\n",
       "      <td>2</td>\n",
       "      <td>1</td>\n",
       "      <td>1</td>\n",
       "      <td>663</td>\n",
       "    </tr>\n",
       "    <tr>\n",
       "      <th>3997153</th>\n",
       "      <td>5</td>\n",
       "      <td>[love, place, super, amazing, staff, always, f...</td>\n",
       "      <td>0</td>\n",
       "      <td>0</td>\n",
       "      <td>0</td>\n",
       "      <td>141</td>\n",
       "    </tr>\n",
       "    <tr>\n",
       "      <th>4262000</th>\n",
       "      <td>5</td>\n",
       "      <td>[thank, dana, dyed, hair, black, previously, k...</td>\n",
       "      <td>0</td>\n",
       "      <td>0</td>\n",
       "      <td>0</td>\n",
       "      <td>455</td>\n",
       "    </tr>\n",
       "  </tbody>\n",
       "</table>\n",
       "</div>"
      ],
      "text/plain": [
       "         stars                                               text  useful  \\\n",
       "2967245      5  [love, cheeses, worth, price, great, finding, ...       0   \n",
       "4773684      5  [become, goto, sushi, place, sushi, always, fr...       0   \n",
       "1139855      1  [disappointed, hotel, restaurants, good, booke...       2   \n",
       "3997153      5  [love, place, super, amazing, staff, always, f...       0   \n",
       "4262000      5  [thank, dana, dyed, hair, black, previously, k...       0   \n",
       "\n",
       "         funny  cool  text_length  \n",
       "2967245      0     1          347  \n",
       "4773684      0     0          377  \n",
       "1139855      1     1          663  \n",
       "3997153      0     0          141  \n",
       "4262000      0     0          455  "
      ]
     },
     "execution_count": 109,
     "metadata": {},
     "output_type": "execute_result"
    }
   ],
   "source": [
    "data.head()"
   ]
  },
  {
   "cell_type": "code",
   "execution_count": 111,
   "metadata": {},
   "outputs": [],
   "source": [
    "word_split = []\n",
    "\n",
    "for i in range(len(data)):\n",
    "    for j in data.iloc[i]['text']:\n",
    "        word_split.append(j)"
   ]
  },
  {
   "cell_type": "code",
   "execution_count": 112,
   "metadata": {},
   "outputs": [
    {
     "data": {
      "text/plain": [
       "['love',\n",
       " 'cheeses',\n",
       " 'worth',\n",
       " 'price',\n",
       " 'great',\n",
       " 'finding',\n",
       " 'treats',\n",
       " 'special',\n",
       " 'dinner',\n",
       " 'picnic',\n",
       " 'nice',\n",
       " 'sample',\n",
       " 'days',\n",
       " 'yum',\n",
       " 'top',\n",
       " 'quality',\n",
       " 'meats',\n",
       " 'nice',\n",
       " 'selection',\n",
       " 'non',\n",
       " 'brand',\n",
       " 'frozen',\n",
       " 'veggies',\n",
       " 'veggie',\n",
       " 'chips',\n",
       " 'mega',\n",
       " 'tasty',\n",
       " 'always',\n",
       " 'quick',\n",
       " 'friendly',\n",
       " 'check',\n",
       " 'produce',\n",
       " 'stellar',\n",
       " 'also',\n",
       " 'finding',\n",
       " 'better',\n",
       " 'madison',\n",
       " 'become',\n",
       " 'goto',\n",
       " 'sushi',\n",
       " 'place',\n",
       " 'sushi',\n",
       " 'always',\n",
       " 'fresh',\n",
       " 'delicious',\n",
       " 'get',\n",
       " '30',\n",
       " 'sushi',\n",
       " 'platter',\n",
       " 'perfect',\n",
       " 'two',\n",
       " 'people',\n",
       " 'service',\n",
       " 'always',\n",
       " 'fast',\n",
       " 'servers',\n",
       " 'pleasant',\n",
       " 'give',\n",
       " 'salads',\n",
       " 'potatoes',\n",
       " 'wait',\n",
       " 'food',\n",
       " 'nice',\n",
       " 'touch',\n",
       " 'meal',\n",
       " 'bring',\n",
       " 'little',\n",
       " 'bottles',\n",
       " 'korean',\n",
       " 'yoghurt',\n",
       " 'also',\n",
       " 'delicious',\n",
       " 'disappointed',\n",
       " 'hotel',\n",
       " 'restaurants',\n",
       " 'good',\n",
       " 'booked',\n",
       " 'eiffel',\n",
       " 'tower',\n",
       " 'view',\n",
       " 'got',\n",
       " 'room',\n",
       " 'view',\n",
       " 'paid',\n",
       " 'extra',\n",
       " 'view',\n",
       " 'put',\n",
       " 'room',\n",
       " 'view',\n",
       " '18th',\n",
       " 'floor',\n",
       " 'excited',\n",
       " 'pool',\n",
       " 'plays',\n",
       " 'loud',\n",
       " 'music',\n",
       " 'fine',\n",
       " 'called',\n",
       " '2',\n",
       " 'asking',\n",
       " 'turn',\n",
       " 'music',\n",
       " 'said',\n",
       " 'goes',\n",
       " '4',\n",
       " '4',\n",
       " 'loud',\n",
       " 'booming',\n",
       " 'music',\n",
       " 'till',\n",
       " '4',\n",
       " 'blow',\n",
       " 'pool',\n",
       " 'area',\n",
       " '7',\n",
       " 'heres',\n",
       " 'deal',\n",
       " 'need',\n",
       " 'place',\n",
       " 'shower',\n",
       " 'keep',\n",
       " 'clothes',\n",
       " 'ok',\n",
       " 'pricy',\n",
       " '200',\n",
       " 'night',\n",
       " 'want',\n",
       " 'actually',\n",
       " 'rest',\n",
       " 'next',\n",
       " 'day',\n",
       " 'pick',\n",
       " 'somewhere',\n",
       " 'else',\n",
       " 'really',\n",
       " 'ruined',\n",
       " 'night',\n",
       " 'love',\n",
       " 'place',\n",
       " 'super',\n",
       " 'amazing',\n",
       " 'staff',\n",
       " 'always',\n",
       " 'friendly',\n",
       " 'never',\n",
       " 'long',\n",
       " 'wait',\n",
       " 'time',\n",
       " 'nice',\n",
       " 'job',\n",
       " 'nails',\n",
       " 'feet',\n",
       " 'truly',\n",
       " 'beautiful',\n",
       " 'thank',\n",
       " 'dana',\n",
       " 'dyed',\n",
       " 'hair',\n",
       " 'black',\n",
       " 'previously',\n",
       " 'knew',\n",
       " 'ombré',\n",
       " 'mind',\n",
       " 'would',\n",
       " 'take',\n",
       " 'appointments',\n",
       " 'dana',\n",
       " 'amazing',\n",
       " 'job',\n",
       " 'look',\n",
       " 'cut',\n",
       " 'wanted',\n",
       " 'got',\n",
       " 'color',\n",
       " 'wanted',\n",
       " 'hair',\n",
       " 'feels',\n",
       " 'great',\n",
       " 'truly',\n",
       " 'listens',\n",
       " 'delivers',\n",
       " 'could',\n",
       " 'satisfied',\n",
       " 'new',\n",
       " 'hair',\n",
       " 'took',\n",
       " 'time',\n",
       " 'styling',\n",
       " 'hair',\n",
       " 'show',\n",
       " 'recreate',\n",
       " 'style',\n",
       " 'husband',\n",
       " 'loves',\n",
       " 'new',\n",
       " 'look',\n",
       " 'thank',\n",
       " 'dana',\n",
       " 'went',\n",
       " 'small',\n",
       " 'group',\n",
       " 'new',\n",
       " 'years',\n",
       " 'eve',\n",
       " 'blown',\n",
       " 'away',\n",
       " 'even',\n",
       " 'though',\n",
       " 'extremely',\n",
       " 'busy',\n",
       " 'night',\n",
       " 'waiter',\n",
       " 'attentive',\n",
       " 'food',\n",
       " 'amazing',\n",
       " 'crab',\n",
       " 'cakes',\n",
       " 'scallops',\n",
       " 'pork',\n",
       " 'shoulder',\n",
       " 'steak',\n",
       " 'frites',\n",
       " 'everything',\n",
       " 'perfectly',\n",
       " 'cooked',\n",
       " 'bartenders',\n",
       " 'friendly',\n",
       " 'helpfulgreat',\n",
       " 'old',\n",
       " 'fashioneds',\n",
       " 'cant',\n",
       " 'wait',\n",
       " 'go',\n",
       " 'back',\n",
       " 'also',\n",
       " 'get',\n",
       " 'pretzels',\n",
       " 'app',\n",
       " 'absolutely',\n",
       " 'worst',\n",
       " 'ever',\n",
       " 'place',\n",
       " 'filthy',\n",
       " 'manager',\n",
       " 'useless',\n",
       " 'line',\n",
       " 'food',\n",
       " 'absolutely',\n",
       " 'disgusting',\n",
       " 'dirty',\n",
       " 'chicken',\n",
       " 'dry',\n",
       " 'old',\n",
       " 'knew',\n",
       " 'come',\n",
       " 'yesterdays',\n",
       " 'orders',\n",
       " 'didnt',\n",
       " 'get',\n",
       " 'sold',\n",
       " 'get',\n",
       " 'one',\n",
       " 'star',\n",
       " 'juice',\n",
       " 'drinks',\n",
       " 'good',\n",
       " 'ill',\n",
       " 'never',\n",
       " 'eat',\n",
       " 'health',\n",
       " 'department',\n",
       " 'called',\n",
       " 'chicken',\n",
       " 'waffles',\n",
       " 'good',\n",
       " 'large',\n",
       " 'portion',\n",
       " 'well',\n",
       " 'definitely',\n",
       " 'back',\n",
       " 'mexico',\n",
       " 'toronto',\n",
       " 'ever',\n",
       " 'since',\n",
       " 'came',\n",
       " 'back',\n",
       " 'memorable',\n",
       " 'gastronomical',\n",
       " 'adventures',\n",
       " 'mexico',\n",
       " '5',\n",
       " 'years',\n",
       " 'ago',\n",
       " 'become',\n",
       " 'big',\n",
       " 'fan',\n",
       " 'mexican',\n",
       " 'cuisine',\n",
       " 'flavors',\n",
       " 'tantalizing',\n",
       " 'spices',\n",
       " 'chocolate',\n",
       " 'chicken',\n",
       " 'mole',\n",
       " 'new',\n",
       " 'favorite',\n",
       " 'vegetable',\n",
       " 'nopales',\n",
       " 'cactus',\n",
       " 'mexico',\n",
       " 'become',\n",
       " 'one',\n",
       " 'favorite',\n",
       " 'destinations',\n",
       " 'visit',\n",
       " 'mexico',\n",
       " 'mariachi',\n",
       " 'mexico',\n",
       " 'specializing',\n",
       " 'authentic',\n",
       " 'mexican',\n",
       " 'cuisine',\n",
       " 'highly',\n",
       " 'recommend',\n",
       " 'mix',\n",
       " 'platters',\n",
       " 'appetizers',\n",
       " 'meat',\n",
       " 'seafood',\n",
       " 'combos',\n",
       " 'way',\n",
       " 'get',\n",
       " 'best',\n",
       " 'everything',\n",
       " 'beverage',\n",
       " 'wise',\n",
       " 'margaritas',\n",
       " 'sangrias',\n",
       " 'missed',\n",
       " 'dont',\n",
       " 'leave',\n",
       " 'home',\n",
       " 'without',\n",
       " 'shot',\n",
       " 'house',\n",
       " 'tequila',\n",
       " 'fred',\n",
       " 'fabulous',\n",
       " 'recommend',\n",
       " 'business',\n",
       " 'whenever',\n",
       " 'new',\n",
       " 'rv',\n",
       " 'dish',\n",
       " 'tv',\n",
       " 'wally',\n",
       " 'receivers',\n",
       " 'installed',\n",
       " 'literally',\n",
       " 'spent',\n",
       " '7',\n",
       " 'hours',\n",
       " 'phone',\n",
       " 'first',\n",
       " 'kingbrand',\n",
       " 'rv',\n",
       " 'antenna',\n",
       " 'help',\n",
       " 'line',\n",
       " 'four',\n",
       " 'yes',\n",
       " '4',\n",
       " 'different',\n",
       " 'dish',\n",
       " 'technical',\n",
       " 'service',\n",
       " 'persons',\n",
       " 'onthetelephone',\n",
       " 'king',\n",
       " 'antenna',\n",
       " 'tech',\n",
       " 'quickly',\n",
       " 'found',\n",
       " 'problem',\n",
       " 'dish',\n",
       " 'receivers',\n",
       " 'called',\n",
       " 'dish',\n",
       " 'tech',\n",
       " 'staff',\n",
       " 'could',\n",
       " 'solve',\n",
       " 'problem',\n",
       " '4th',\n",
       " 'dish',\n",
       " 'tech',\n",
       " 'person',\n",
       " 'spoke',\n",
       " '1',\n",
       " '12',\n",
       " 'hours',\n",
       " 'phone',\n",
       " 'suggested',\n",
       " 'contact',\n",
       " 'satellite',\n",
       " 'installation',\n",
       " 'dealer',\n",
       " 'deal',\n",
       " 'person',\n",
       " 'honestly',\n",
       " 'sheer',\n",
       " 'luck',\n",
       " 'found',\n",
       " 'site',\n",
       " 'satellite',\n",
       " 'online',\n",
       " 'northern',\n",
       " 'phoenix',\n",
       " 'area',\n",
       " 'people',\n",
       " 'worked',\n",
       " 'life',\n",
       " 'solve',\n",
       " 'problems',\n",
       " '68',\n",
       " 'years',\n",
       " 'old',\n",
       " 'ive',\n",
       " 'worked',\n",
       " 'lots',\n",
       " 'people',\n",
       " 'solve',\n",
       " 'kinds',\n",
       " 'problems',\n",
       " 'fred',\n",
       " 'mullins',\n",
       " 'professional',\n",
       " 'competent',\n",
       " 'marvelous',\n",
       " 'person',\n",
       " 'ive',\n",
       " 'ever',\n",
       " 'worked',\n",
       " 'happy',\n",
       " 'work',\n",
       " 'fred',\n",
       " 'place',\n",
       " 'always',\n",
       " 'good',\n",
       " 'althpugh',\n",
       " 'thing',\n",
       " 'order',\n",
       " 'philly',\n",
       " 'cheesesteak',\n",
       " 'mushrooms',\n",
       " 'cheese',\n",
       " 'bomb',\n",
       " 'ive',\n",
       " 'seeing',\n",
       " 'dana',\n",
       " 'price',\n",
       " 'nearly',\n",
       " '5',\n",
       " '12',\n",
       " 'years',\n",
       " 'various',\n",
       " 'health',\n",
       " 'reasons',\n",
       " 'credit',\n",
       " 'birth',\n",
       " 'daughter',\n",
       " 'dana',\n",
       " 'experiencing',\n",
       " 'several',\n",
       " 'miscarriages',\n",
       " 'ive',\n",
       " 'also',\n",
       " 'seen',\n",
       " 'help',\n",
       " 'issues',\n",
       " 'related',\n",
       " 'immune',\n",
       " 'system',\n",
       " 'migraines',\n",
       " 'shes',\n",
       " 'easy',\n",
       " 'talk',\n",
       " 'always',\n",
       " 'leave',\n",
       " 'feeling',\n",
       " 'better',\n",
       " 'immediately',\n",
       " 'initially',\n",
       " 'worried',\n",
       " 'dont',\n",
       " 'well',\n",
       " 'needles',\n",
       " 'acupuncture',\n",
       " 'nothing',\n",
       " 'like',\n",
       " 'getting',\n",
       " 'shot',\n",
       " 'dana',\n",
       " 'helped',\n",
       " 'put',\n",
       " 'ease',\n",
       " 'right',\n",
       " 'away',\n",
       " 'ive',\n",
       " 'thrilled',\n",
       " 'everyone',\n",
       " 'else',\n",
       " 'ilumina',\n",
       " 'highly',\n",
       " 'recommend',\n",
       " 'ilumina',\n",
       " 'healing',\n",
       " 'sanctuary',\n",
       " 'awesome',\n",
       " 'cafe',\n",
       " 'making',\n",
       " 'delicious',\n",
       " 'food',\n",
       " 'strange',\n",
       " 'location',\n",
       " 'north',\n",
       " 'side',\n",
       " 'familiar',\n",
       " 'neighborhood',\n",
       " 'pick',\n",
       " 'package',\n",
       " 'ups',\n",
       " 'hub',\n",
       " 'way',\n",
       " 'work',\n",
       " 'hadnt',\n",
       " 'eaten',\n",
       " 'breakfast',\n",
       " 'packed',\n",
       " 'lunch',\n",
       " 'im',\n",
       " 'irresponsible',\n",
       " 'like',\n",
       " 'decided',\n",
       " 'find',\n",
       " 'place',\n",
       " 'stop',\n",
       " 'grab',\n",
       " 'glad',\n",
       " 'little',\n",
       " 'place',\n",
       " 'street',\n",
       " 'middle',\n",
       " 'seems',\n",
       " 'like',\n",
       " 'industrial',\n",
       " 'park',\n",
       " 'cute',\n",
       " 'calm',\n",
       " 'inside',\n",
       " 'really',\n",
       " 'welcoming',\n",
       " 'vibe',\n",
       " 'one',\n",
       " 'delicious',\n",
       " 'bagel',\n",
       " 'sandwiches',\n",
       " 'ive',\n",
       " 'ages',\n",
       " 'breakfast',\n",
       " 'picked',\n",
       " 'bacon',\n",
       " 'beet',\n",
       " 'salad',\n",
       " 'lunch',\n",
       " 'fabulous',\n",
       " 'candied',\n",
       " 'pecans',\n",
       " 'delicious',\n",
       " 'greasy',\n",
       " 'bacon',\n",
       " 'tons',\n",
       " 'beets',\n",
       " 'big',\n",
       " 'portions',\n",
       " 'im',\n",
       " 'almost',\n",
       " 'glad',\n",
       " 'dont',\n",
       " 'live',\n",
       " 'closer',\n",
       " 'place',\n",
       " 'could',\n",
       " 'easily',\n",
       " 'wipe',\n",
       " 'spending',\n",
       " 'money',\n",
       " 'ill',\n",
       " 'find',\n",
       " 'excuse',\n",
       " 'come',\n",
       " 'back',\n",
       " 'two',\n",
       " 'visits',\n",
       " 'salon',\n",
       " 'two',\n",
       " 'different',\n",
       " 'stylists',\n",
       " 'first',\n",
       " 'time',\n",
       " 'got',\n",
       " 'cut',\n",
       " 'pleased',\n",
       " 'decided',\n",
       " 'go',\n",
       " 'back',\n",
       " 'color',\n",
       " 'everyone',\n",
       " 'salon',\n",
       " 'super',\n",
       " 'friendly',\n",
       " 'nothing',\n",
       " 'personally',\n",
       " 'color',\n",
       " 'disaster',\n",
       " 'wanted',\n",
       " 'ombré',\n",
       " 'didnt',\n",
       " 'quite',\n",
       " 'get',\n",
       " 'wanted',\n",
       " 'decided',\n",
       " 'wear',\n",
       " 'couple',\n",
       " 'days',\n",
       " 'see',\n",
       " 'grew',\n",
       " 'well',\n",
       " 'color',\n",
       " 'started',\n",
       " 'get',\n",
       " 'brassy',\n",
       " 'orange',\n",
       " 'next',\n",
       " 'day',\n",
       " 'kept',\n",
       " 'getting',\n",
       " 'worse',\n",
       " 'called',\n",
       " 'tuesday',\n",
       " 'let',\n",
       " 'know',\n",
       " 'wasnt',\n",
       " 'pleased',\n",
       " 'said',\n",
       " 'earliest',\n",
       " 'could',\n",
       " 'seen',\n",
       " 'thursday',\n",
       " 'didnt',\n",
       " 'work',\n",
       " 'schedule',\n",
       " 'suppose',\n",
       " 'wait',\n",
       " 'friday',\n",
       " 'accommodations',\n",
       " 'made',\n",
       " 'try',\n",
       " 'get',\n",
       " 'sooner',\n",
       " 'couldnt',\n",
       " 'go',\n",
       " 'brassy',\n",
       " 'orange',\n",
       " 'hair',\n",
       " 'whole',\n",
       " 'week',\n",
       " 'fixed',\n",
       " 'called',\n",
       " 'cancel',\n",
       " 'appointment',\n",
       " 'fix',\n",
       " 'stated',\n",
       " 'wanted',\n",
       " 'refund',\n",
       " 'sort',\n",
       " 'credit',\n",
       " 'paid',\n",
       " 'lot',\n",
       " 'money',\n",
       " 'professional',\n",
       " 'color',\n",
       " 'didnt',\n",
       " 'get',\n",
       " 'wanted',\n",
       " 'told',\n",
       " 'get',\n",
       " 'fixed',\n",
       " 'didnt',\n",
       " 'try',\n",
       " 'get',\n",
       " 'asap',\n",
       " 'couldnt',\n",
       " 'walk',\n",
       " 'around',\n",
       " 'orange',\n",
       " 'hair',\n",
       " 'receptionist',\n",
       " 'told',\n",
       " 'couldve',\n",
       " 'gone',\n",
       " 'sallys',\n",
       " 'get',\n",
       " 'toner',\n",
       " 'meantime',\n",
       " 'paid',\n",
       " 'salon',\n",
       " 'professional',\n",
       " 'color',\n",
       " 'tone',\n",
       " 'simply',\n",
       " 'stated',\n",
       " 'sorry',\n",
       " 'refunds',\n",
       " 'made',\n",
       " 'effort',\n",
       " 'get',\n",
       " 'day',\n",
       " 'called',\n",
       " 'next',\n",
       " 'might',\n",
       " 'better',\n",
       " 'situation',\n",
       " 'shouldnt',\n",
       " 'expect',\n",
       " 'client',\n",
       " 'wait',\n",
       " 'days',\n",
       " 'disastrous',\n",
       " 'hair',\n",
       " 'tell',\n",
       " 'couldve',\n",
       " 'gone',\n",
       " 'sallys',\n",
       " 'wouldve',\n",
       " 'happy',\n",
       " 'refund',\n",
       " 'sort',\n",
       " 'credit',\n",
       " 'nope',\n",
       " 'im',\n",
       " 'good',\n",
       " 'chunk',\n",
       " 'cash',\n",
       " 'wifes',\n",
       " '2015',\n",
       " 'mustang',\n",
       " 'hit',\n",
       " 'rear',\n",
       " 'took',\n",
       " 'collision',\n",
       " 'masters',\n",
       " 'estimated',\n",
       " '3500',\n",
       " 'took',\n",
       " '19',\n",
       " 'days',\n",
       " 'fix',\n",
       " 'back',\n",
       " 'bumper',\n",
       " 'didnt',\n",
       " 'line',\n",
       " 'body',\n",
       " 'said',\n",
       " 'market',\n",
       " 'bumper',\n",
       " 'dropped',\n",
       " 'back',\n",
       " 'let',\n",
       " 'fix',\n",
       " 'took',\n",
       " 'weather',\n",
       " 'stripping',\n",
       " 'glued',\n",
       " 'gap',\n",
       " 'body',\n",
       " 'bumper',\n",
       " 'trunk',\n",
       " 'closes',\n",
       " 'didnt',\n",
       " 'fix',\n",
       " 'problem',\n",
       " 'hide',\n",
       " 'good',\n",
       " 'awesome',\n",
       " 'experience',\n",
       " 'olivia',\n",
       " 'excellent',\n",
       " 'waitress',\n",
       " 'impressed',\n",
       " 'attention',\n",
       " 'detail',\n",
       " 'recommendation',\n",
       " 'wine',\n",
       " 'special',\n",
       " 'treat',\n",
       " 'gammage',\n",
       " 'theatre',\n",
       " 'night',\n",
       " 'every',\n",
       " 'employee',\n",
       " 'game',\n",
       " 'one',\n",
       " 'best',\n",
       " 'date',\n",
       " 'nights',\n",
       " 'sure',\n",
       " 'back',\n",
       " 'restaurant',\n",
       " 'great',\n",
       " 'deal',\n",
       " 'also',\n",
       " 'love',\n",
       " 'food',\n",
       " 'atmosphere',\n",
       " 'favorite',\n",
       " 'restaurant',\n",
       " 'las',\n",
       " 'vegas',\n",
       " 'area',\n",
       " 'place',\n",
       " 'surprising',\n",
       " 'staying',\n",
       " 'camelback',\n",
       " 'looking',\n",
       " 'quick',\n",
       " 'italian',\n",
       " 'food',\n",
       " 'dressed',\n",
       " 'shorts',\n",
       " 'flipflops',\n",
       " 'owners',\n",
       " 'greeted',\n",
       " 'us',\n",
       " 'warmly',\n",
       " 'door',\n",
       " 'checked',\n",
       " 'throughout',\n",
       " 'evening',\n",
       " 'meals',\n",
       " 'restaurant',\n",
       " 'nice',\n",
       " 'family',\n",
       " 'feel',\n",
       " 'devoured',\n",
       " 'food',\n",
       " 'owner',\n",
       " 'even',\n",
       " 'asked',\n",
       " 'wanted',\n",
       " 'pasta',\n",
       " 'believe',\n",
       " 'would',\n",
       " 'given',\n",
       " 'us',\n",
       " 'pleasant',\n",
       " 'surprise',\n",
       " 'give',\n",
       " '5',\n",
       " 'stars',\n",
       " 'hands',\n",
       " 'best',\n",
       " 'thai',\n",
       " 'food',\n",
       " 'vegas',\n",
       " 'nothing',\n",
       " 'even',\n",
       " 'comes',\n",
       " 'close',\n",
       " 'nam',\n",
       " 'kao',\n",
       " 'tod',\n",
       " 'crispy',\n",
       " 'fried',\n",
       " 'rice',\n",
       " 'must',\n",
       " 'order',\n",
       " 'consistently',\n",
       " 'love',\n",
       " 'papaya',\n",
       " 'salad',\n",
       " 'curries',\n",
       " 'fantastic',\n",
       " 'even',\n",
       " 'basics',\n",
       " 'amazing',\n",
       " 'love',\n",
       " 'come',\n",
       " 'pad',\n",
       " 'thai',\n",
       " 'pad',\n",
       " 'see',\n",
       " 'ewe',\n",
       " 'careful',\n",
       " 'though',\n",
       " 'spice',\n",
       " 'level',\n",
       " 'pretty',\n",
       " 'high',\n",
       " 'order',\n",
       " 'spice',\n",
       " 'level',\n",
       " 'significantly',\n",
       " 'would',\n",
       " 'typically',\n",
       " 'order',\n",
       " 'hot',\n",
       " 'worse',\n",
       " 'office',\n",
       " 'ever',\n",
       " 'deal',\n",
       " 'since',\n",
       " 'moving',\n",
       " 'valley',\n",
       " 'lindsey',\n",
       " 'respect',\n",
       " 'customer',\n",
       " 'service',\n",
       " 'whatsoever',\n",
       " 'living',\n",
       " 'complex',\n",
       " '11',\n",
       " 'months',\n",
       " 'worse',\n",
       " 'year',\n",
       " 'ever',\n",
       " 'office',\n",
       " 'staff',\n",
       " 'help',\n",
       " 'needed',\n",
       " 'something',\n",
       " 'fix',\n",
       " 'apartment',\n",
       " 'asked',\n",
       " 'management',\n",
       " 'maintenance',\n",
       " 'order',\n",
       " 'fix',\n",
       " 'kitchen',\n",
       " 'light',\n",
       " 'month',\n",
       " 'later',\n",
       " 'still',\n",
       " 'maintenance',\n",
       " 'go',\n",
       " 'front',\n",
       " 'turn',\n",
       " '90',\n",
       " 'day',\n",
       " 'move',\n",
       " 'middle',\n",
       " 'signing',\n",
       " 'papers',\n",
       " 'could',\n",
       " 'find',\n",
       " 'inspection',\n",
       " 'form',\n",
       " 'file',\n",
       " 'first',\n",
       " 'moved',\n",
       " 'management',\n",
       " 'mess',\n",
       " 'informing',\n",
       " 'certain',\n",
       " 'issue',\n",
       " 'current',\n",
       " 'realize',\n",
       " 'front',\n",
       " 'staff',\n",
       " 'way',\n",
       " 'could',\n",
       " 'would',\n",
       " 'give',\n",
       " 'place',\n",
       " 'star',\n",
       " 'went',\n",
       " 'online',\n",
       " 'made',\n",
       " 'appointment',\n",
       " 'purchase',\n",
       " 'new',\n",
       " 'tires',\n",
       " 'got',\n",
       " 'hours',\n",
       " 'scheduled',\n",
       " 'appointment',\n",
       " 'greeted',\n",
       " 'well',\n",
       " 'told',\n",
       " 'would',\n",
       " ...]"
      ]
     },
     "execution_count": 112,
     "metadata": {},
     "output_type": "execute_result"
    }
   ],
   "source": [
    "word_split"
   ]
  },
  {
   "cell_type": "code",
   "execution_count": 113,
   "metadata": {},
   "outputs": [
    {
     "data": {
      "text/plain": [
       "542773"
      ]
     },
     "execution_count": 113,
     "metadata": {},
     "output_type": "execute_result"
    }
   ],
   "source": [
    "len(word_split)"
   ]
  },
  {
   "cell_type": "code",
   "execution_count": 114,
   "metadata": {},
   "outputs": [],
   "source": [
    "from nltk.probability import FreqDist"
   ]
  },
  {
   "cell_type": "code",
   "execution_count": 115,
   "metadata": {
    "scrolled": true
   },
   "outputs": [
    {
     "data": {
      "image/png": "[encoded data removed]",
      "text/plain": [
       "<Figure size 1440x720 with 1 Axes>"
      ]
     },
     "metadata": {
      "needs_background": "light"
     },
     "output_type": "display_data"
    },
    {
     "data": {
      "text/plain": [
       "<AxesSubplot:xlabel='Samples', ylabel='Counts'>"
      ]
     },
     "execution_count": 115,
     "metadata": {},
     "output_type": "execute_result"
    }
   ],
   "source": [
    "plt.figure(figsize=(20,10))\n",
    "FreqDist(word_split).plot(30)"
   ]
  },
  {
   "cell_type": "markdown",
   "metadata": {},
   "source": [
    "+ Word cloud"
   ]
  },
  {
   "cell_type": "markdown",
   "metadata": {},
   "source": [
    "- 활용사례: Finding Pain Points(불만요소 확인), SEO(관련된 주요 키워드)"
   ]
  },
  {
   "cell_type": "code",
   "execution_count": 117,
   "metadata": {},
   "outputs": [],
   "source": [
    "# Word Cloud\n",
    "from wordcloud import WordCloud"
   ]
  },
  {
   "cell_type": "code",
   "execution_count": 121,
   "metadata": {},
   "outputs": [
    {
     "data": {
      "text/plain": [
       "(-0.5, 399.5, 199.5, -0.5)"
      ]
     },
     "execution_count": 121,
     "metadata": {},
     "output_type": "execute_result"
    },
    {
     "data": {
      "image/png": "[encoded data removed]",
      "text/plain": [
       "<Figure size 720x360 with 1 Axes>"
      ]
     },
     "metadata": {
      "needs_background": "light"
     },
     "output_type": "display_data"
    }
   ],
   "source": [
    "wc = WordCloud().generate(str(data['text']))\n",
    "plt.figure(figsize = (10,5))\n",
    "plt.imshow(wc)\n",
    "plt.axis('off')  # xlable, ylabel delete"
   ]
  },
  {
   "cell_type": "code",
   "execution_count": 122,
   "metadata": {},
   "outputs": [
    {
     "data": {
      "text/plain": [
       "5    7532\n",
       "1    2468\n",
       "Name: stars, dtype: int64"
      ]
     },
     "execution_count": 122,
     "metadata": {},
     "output_type": "execute_result"
    }
   ],
   "source": [
    "data['stars'].value_counts()  # 좋은 리뷰가 많기때문에 의미있는 단어가 많이 추출되었다."
   ]
  },
  {
   "cell_type": "code",
   "execution_count": 124,
   "metadata": {},
   "outputs": [],
   "source": [
    "good = data[data['stars'] == 5]['text']  # 5점짜리 리뷰만\n",
    "bad = data[data['stars'] == 1]['text']   # 1점짜리 리뷰만"
   ]
  },
  {
   "cell_type": "code",
   "execution_count": 125,
   "metadata": {},
   "outputs": [
    {
     "data": {
      "text/plain": [
       "(-0.5, 399.5, 199.5, -0.5)"
      ]
     },
     "execution_count": 125,
     "metadata": {},
     "output_type": "execute_result"
    },
    {
     "data": {
      "image/png": "[encoded data removed]",
      "text/plain": [
       "<Figure size 720x360 with 1 Axes>"
      ]
     },
     "metadata": {
      "needs_background": "light"
     },
     "output_type": "display_data"
    }
   ],
   "source": [
    "wc = WordCloud().generate(str(good))\n",
    "plt.figure(figsize = (10,5))\n",
    "plt.imshow(wc)\n",
    "plt.axis('off')  # xlable, ylabel delete"
   ]
  },
  {
   "cell_type": "code",
   "execution_count": 126,
   "metadata": {},
   "outputs": [
    {
     "data": {
      "text/plain": [
       "(-0.5, 399.5, 199.5, -0.5)"
      ]
     },
     "execution_count": 126,
     "metadata": {},
     "output_type": "execute_result"
    },
    {
     "data": {
      "image/png": "[encoded data removed]",
      "text/plain": [
       "<Figure size 720x360 with 1 Axes>"
      ]
     },
     "metadata": {
      "needs_background": "light"
     },
     "output_type": "display_data"
    }
   ],
   "source": [
    "wc = WordCloud().generate(str(bad))\n",
    "plt.figure(figsize = (10,5))\n",
    "plt.imshow(wc)\n",
    "plt.axis('off')  # xlable, ylabel delete"
   ]
  },
  {
   "cell_type": "markdown",
   "metadata": {},
   "source": [
    "## 5) Naive Bayes"
   ]
  },
  {
   "cell_type": "markdown",
   "metadata": {},
   "source": [
    "### Navie Bayes Classifier의 장점\n",
    "+ 각 변수 독립가정 -> fast\n",
    "+ n < p 일 때 유용함(n 관측치, p 컬럼) -> overfitting 벗어남\n",
    "+ 딥러닝을 제외하면 텍스트 데이터에 가장 적합(스팸메일 필터링, 감정분석)"
   ]
  },
  {
   "cell_type": "code",
   "execution_count": 184,
   "metadata": {},
   "outputs": [
    {
     "data": {
      "image/png": "[encoded data removed]",
      "text/plain": [
       "<IPython.core.display.Image object>"
      ]
     },
     "execution_count": 184,
     "metadata": {},
     "output_type": "execute_result"
    }
   ],
   "source": [
    "Image('../data/navie_bayes.png')"
   ]
  },
  {
   "cell_type": "markdown",
   "metadata": {},
   "source": [
    "+ A: 스팸, B: 특정단어"
   ]
  },
  {
   "cell_type": "code",
   "execution_count": 127,
   "metadata": {},
   "outputs": [],
   "source": [
    "data = pd.read_csv('./data/yelp.csv', index_col = 0)"
   ]
  },
  {
   "cell_type": "code",
   "execution_count": 130,
   "metadata": {},
   "outputs": [
    {
     "data": {
      "text/html": [
       "<div>\n",
       "<style scoped>\n",
       "    .dataframe tbody tr th:only-of-type {\n",
       "        vertical-align: middle;\n",
       "    }\n",
       "\n",
       "    .dataframe tbody tr th {\n",
       "        vertical-align: top;\n",
       "    }\n",
       "\n",
       "    .dataframe thead th {\n",
       "        text-align: right;\n",
       "    }\n",
       "</style>\n",
       "<table border=\"1\" class=\"dataframe\">\n",
       "  <thead>\n",
       "    <tr style=\"text-align: right;\">\n",
       "      <th></th>\n",
       "      <th>review_id</th>\n",
       "      <th>user_id</th>\n",
       "      <th>business_id</th>\n",
       "      <th>stars</th>\n",
       "      <th>date</th>\n",
       "      <th>text</th>\n",
       "      <th>useful</th>\n",
       "      <th>funny</th>\n",
       "      <th>cool</th>\n",
       "    </tr>\n",
       "  </thead>\n",
       "  <tbody>\n",
       "    <tr>\n",
       "      <th>2967245</th>\n",
       "      <td>aMleVK0lQcOSNCs56_gSbg</td>\n",
       "      <td>miHaLnLanDKfZqZHet0uWw</td>\n",
       "      <td>Xp_cWXY5rxDLkX-wqUg-iQ</td>\n",
       "      <td>5</td>\n",
       "      <td>2015-09-30</td>\n",
       "      <td>LOVE the cheeses here.  They are worth the pri...</td>\n",
       "      <td>0</td>\n",
       "      <td>0</td>\n",
       "      <td>1</td>\n",
       "    </tr>\n",
       "    <tr>\n",
       "      <th>4773684</th>\n",
       "      <td>Hs1f--t9JnVKW9A1U2uhKA</td>\n",
       "      <td>r_RUQSGZcd5bSgmTcS5IfQ</td>\n",
       "      <td>NuGZD3yBVqzpY1HuzT26mQ</td>\n",
       "      <td>5</td>\n",
       "      <td>2015-06-04</td>\n",
       "      <td>This has become our go-to sushi place. The sus...</td>\n",
       "      <td>0</td>\n",
       "      <td>0</td>\n",
       "      <td>0</td>\n",
       "    </tr>\n",
       "    <tr>\n",
       "      <th>1139855</th>\n",
       "      <td>i7aiPgNrNaFoM8J_j2OSyQ</td>\n",
       "      <td>zz7lojg6QdZbKFCJiHsj7w</td>\n",
       "      <td>ii8sAGBexBOJoYRFafF9XQ</td>\n",
       "      <td>1</td>\n",
       "      <td>2016-07-03</td>\n",
       "      <td>I was very disappointed with the hotel. The re...</td>\n",
       "      <td>2</td>\n",
       "      <td>1</td>\n",
       "      <td>1</td>\n",
       "    </tr>\n",
       "    <tr>\n",
       "      <th>3997153</th>\n",
       "      <td>uft6iMwNQh4I2UDpmbXggA</td>\n",
       "      <td>p_oXN3L9oi8nmmJigf8c9Q</td>\n",
       "      <td>r0j4IpUbcdC1-HfoMYae4w</td>\n",
       "      <td>5</td>\n",
       "      <td>2016-10-15</td>\n",
       "      <td>Love this place - super amazing - staff here i...</td>\n",
       "      <td>0</td>\n",
       "      <td>0</td>\n",
       "      <td>0</td>\n",
       "    </tr>\n",
       "    <tr>\n",
       "      <th>4262000</th>\n",
       "      <td>y9QmJ16mrfBZS6Td6Yqo0g</td>\n",
       "      <td>jovtGPaHAqP6XfG9BFwY7A</td>\n",
       "      <td>j6UwIfXrSkGTdVkRu7K6WA</td>\n",
       "      <td>5</td>\n",
       "      <td>2017-03-14</td>\n",
       "      <td>Thank you Dana!!!! Having dyed my hair black p...</td>\n",
       "      <td>0</td>\n",
       "      <td>0</td>\n",
       "      <td>0</td>\n",
       "    </tr>\n",
       "  </tbody>\n",
       "</table>\n",
       "</div>"
      ],
      "text/plain": [
       "                      review_id                 user_id  \\\n",
       "2967245  aMleVK0lQcOSNCs56_gSbg  miHaLnLanDKfZqZHet0uWw   \n",
       "4773684  Hs1f--t9JnVKW9A1U2uhKA  r_RUQSGZcd5bSgmTcS5IfQ   \n",
       "1139855  i7aiPgNrNaFoM8J_j2OSyQ  zz7lojg6QdZbKFCJiHsj7w   \n",
       "3997153  uft6iMwNQh4I2UDpmbXggA  p_oXN3L9oi8nmmJigf8c9Q   \n",
       "4262000  y9QmJ16mrfBZS6Td6Yqo0g  jovtGPaHAqP6XfG9BFwY7A   \n",
       "\n",
       "                    business_id  stars        date  \\\n",
       "2967245  Xp_cWXY5rxDLkX-wqUg-iQ      5  2015-09-30   \n",
       "4773684  NuGZD3yBVqzpY1HuzT26mQ      5  2015-06-04   \n",
       "1139855  ii8sAGBexBOJoYRFafF9XQ      1  2016-07-03   \n",
       "3997153  r0j4IpUbcdC1-HfoMYae4w      5  2016-10-15   \n",
       "4262000  j6UwIfXrSkGTdVkRu7K6WA      5  2017-03-14   \n",
       "\n",
       "                                                      text  useful  funny  \\\n",
       "2967245  LOVE the cheeses here.  They are worth the pri...       0      0   \n",
       "4773684  This has become our go-to sushi place. The sus...       0      0   \n",
       "1139855  I was very disappointed with the hotel. The re...       2      1   \n",
       "3997153  Love this place - super amazing - staff here i...       0      0   \n",
       "4262000  Thank you Dana!!!! Having dyed my hair black p...       0      0   \n",
       "\n",
       "         cool  \n",
       "2967245     1  \n",
       "4773684     0  \n",
       "1139855     1  \n",
       "3997153     0  \n",
       "4262000     0  "
      ]
     },
     "execution_count": 130,
     "metadata": {},
     "output_type": "execute_result"
    }
   ],
   "source": [
    "data.head(5)  # target : starts"
   ]
  },
  {
   "cell_type": "code",
   "execution_count": 166,
   "metadata": {},
   "outputs": [],
   "source": [
    "X = data['text']\n",
    "y = data['stars']"
   ]
  },
  {
   "cell_type": "markdown",
   "metadata": {},
   "source": [
    "+ Count Vectorizer: 단어별 빈도를 계산하여 데이터 프레임으로 정리"
   ]
  },
  {
   "cell_type": "code",
   "execution_count": 179,
   "metadata": {},
   "outputs": [],
   "source": [
    "from IPython.display import Image"
   ]
  },
  {
   "cell_type": "code",
   "execution_count": 183,
   "metadata": {},
   "outputs": [
    {
     "data": {
      "image/png": "[encoded data removed]",
      "text/plain": [
       "<IPython.core.display.Image object>"
      ]
     },
     "execution_count": 183,
     "metadata": {},
     "output_type": "execute_result"
    }
   ],
   "source": [
    "Image('../data/그림1.png')"
   ]
  },
  {
   "cell_type": "code",
   "execution_count": 134,
   "metadata": {},
   "outputs": [],
   "source": [
    "from sklearn.feature_extraction.text import CountVectorizer"
   ]
  },
  {
   "cell_type": "code",
   "execution_count": 167,
   "metadata": {},
   "outputs": [],
   "source": [
    "cv = CountVectorizer()"
   ]
  },
  {
   "cell_type": "code",
   "execution_count": 168,
   "metadata": {},
   "outputs": [
    {
     "data": {
      "text/plain": [
       "CountVectorizer()"
      ]
     },
     "execution_count": 168,
     "metadata": {},
     "output_type": "execute_result"
    }
   ],
   "source": [
    "cv.fit(X)"
   ]
  },
  {
   "cell_type": "code",
   "execution_count": 169,
   "metadata": {},
   "outputs": [],
   "source": [
    "X = cv.transform(X)"
   ]
  },
  {
   "cell_type": "code",
   "execution_count": 138,
   "metadata": {},
   "outputs": [],
   "source": [
    "# cv.fit_transform(X)  -> 한줄코드"
   ]
  },
  {
   "cell_type": "code",
   "execution_count": 139,
   "metadata": {},
   "outputs": [
    {
     "name": "stdout",
     "output_type": "stream",
     "text": [
      "  (0, 1423)\t1\n",
      "  (0, 1453)\t1\n",
      "  (0, 1580)\t1\n",
      "  (0, 1905)\t2\n",
      "  (0, 2027)\t2\n",
      "  (0, 3066)\t1\n",
      "  (0, 3694)\t1\n",
      "  (0, 4157)\t1\n",
      "  (0, 4938)\t1\n",
      "  (0, 4975)\t1\n",
      "  (0, 5112)\t1\n",
      "  (0, 6921)\t1\n",
      "  (0, 7535)\t1\n",
      "  (0, 9746)\t2\n",
      "  (0, 10103)\t2\n",
      "  (0, 10370)\t1\n",
      "  (0, 10440)\t1\n",
      "  (0, 11315)\t1\n",
      "  (0, 12016)\t1\n",
      "  (0, 12805)\t1\n",
      "  (0, 13373)\t1\n",
      "  (0, 15023)\t1\n",
      "  (0, 15210)\t1\n",
      "  (0, 15742)\t1\n",
      "  (0, 15791)\t1\n",
      "  :\t:\n",
      "  (9998, 27679)\t3\n",
      "  (9998, 27786)\t1\n",
      "  (9998, 27818)\t1\n",
      "  (9998, 27974)\t2\n",
      "  (9998, 28038)\t3\n",
      "  (9999, 1580)\t1\n",
      "  (9999, 2380)\t3\n",
      "  (9999, 2611)\t1\n",
      "  (9999, 2857)\t1\n",
      "  (9999, 8012)\t1\n",
      "  (9999, 9067)\t1\n",
      "  (9999, 10081)\t1\n",
      "  (9999, 10103)\t1\n",
      "  (9999, 10417)\t1\n",
      "  (9999, 11067)\t1\n",
      "  (9999, 14879)\t1\n",
      "  (9999, 16451)\t1\n",
      "  (9999, 16901)\t1\n",
      "  (9999, 21795)\t1\n",
      "  (9999, 22108)\t1\n",
      "  (9999, 22260)\t1\n",
      "  (9999, 25145)\t1\n",
      "  (9999, 26879)\t1\n",
      "  (9999, 27679)\t1\n",
      "  (9999, 28048)\t1\n"
     ]
    }
   ],
   "source": [
    "print(X)  # 단어에 라벨부여"
   ]
  },
  {
   "cell_type": "code",
   "execution_count": 140,
   "metadata": {},
   "outputs": [
    {
     "data": {
      "text/plain": [
       "'also'"
      ]
     },
     "execution_count": 140,
     "metadata": {},
     "output_type": "execute_result"
    }
   ],
   "source": [
    "cv.get_feature_names()[1423]"
   ]
  },
  {
   "cell_type": "code",
   "execution_count": 141,
   "metadata": {},
   "outputs": [
    {
     "data": {
      "text/plain": [
       "'always'"
      ]
     },
     "execution_count": 141,
     "metadata": {},
     "output_type": "execute_result"
    }
   ],
   "source": [
    "cv.get_feature_names()[1453]"
   ]
  },
  {
   "cell_type": "code",
   "execution_count": 142,
   "metadata": {},
   "outputs": [],
   "source": [
    "from sklearn.model_selection import train_test_split"
   ]
  },
  {
   "cell_type": "code",
   "execution_count": 170,
   "metadata": {},
   "outputs": [],
   "source": [
    "X_train, X_test, y_train, y_test = train_test_split(X, y, test_size = 0.2, random_state = 100)"
   ]
  },
  {
   "cell_type": "code",
   "execution_count": 144,
   "metadata": {},
   "outputs": [],
   "source": [
    "from sklearn.naive_bayes import MultinomialNB"
   ]
  },
  {
   "cell_type": "code",
   "execution_count": 145,
   "metadata": {},
   "outputs": [],
   "source": [
    "model = MultinomialNB()"
   ]
  },
  {
   "cell_type": "code",
   "execution_count": 146,
   "metadata": {},
   "outputs": [
    {
     "data": {
      "text/plain": [
       "MultinomialNB()"
      ]
     },
     "execution_count": 146,
     "metadata": {},
     "output_type": "execute_result"
    }
   ],
   "source": [
    "model.fit(X_train, y_train)"
   ]
  },
  {
   "cell_type": "code",
   "execution_count": 148,
   "metadata": {},
   "outputs": [],
   "source": [
    "pred = model.predict(X_test)"
   ]
  },
  {
   "cell_type": "code",
   "execution_count": 149,
   "metadata": {},
   "outputs": [
    {
     "data": {
      "text/plain": [
       "array([5, 5, 5, ..., 1, 5, 1], dtype=int64)"
      ]
     },
     "execution_count": 149,
     "metadata": {},
     "output_type": "execute_result"
    }
   ],
   "source": [
    "pred"
   ]
  },
  {
   "cell_type": "code",
   "execution_count": 150,
   "metadata": {},
   "outputs": [
    {
     "data": {
      "text/plain": [
       "1373705    5\n",
       "3128713    5\n",
       "212088     1\n",
       "1622136    5\n",
       "2380124    5\n",
       "          ..\n",
       "3548316    5\n",
       "38943      5\n",
       "2423674    1\n",
       "1564863    5\n",
       "3629333    1\n",
       "Name: stars, Length: 2000, dtype: int64"
      ]
     },
     "execution_count": 150,
     "metadata": {},
     "output_type": "execute_result"
    }
   ],
   "source": [
    "y_test"
   ]
  },
  {
   "cell_type": "code",
   "execution_count": 154,
   "metadata": {},
   "outputs": [],
   "source": [
    "from sklearn.metrics import accuracy_score, confusion_matrix, classification_report"
   ]
  },
  {
   "cell_type": "code",
   "execution_count": 155,
   "metadata": {},
   "outputs": [
    {
     "data": {
      "text/plain": [
       "0.9265"
      ]
     },
     "execution_count": 155,
     "metadata": {},
     "output_type": "execute_result"
    }
   ],
   "source": [
    "accuracy_score(y_test, pred)"
   ]
  },
  {
   "cell_type": "code",
   "execution_count": 156,
   "metadata": {},
   "outputs": [
    {
     "data": {
      "text/plain": [
       "array([[ 421,   65],\n",
       "       [  82, 1432]], dtype=int64)"
      ]
     },
     "execution_count": 156,
     "metadata": {},
     "output_type": "execute_result"
    }
   ],
   "source": [
    "confusion_matrix(y_test, pred)  # Type1, Type2 Error"
   ]
  },
  {
   "cell_type": "code",
   "execution_count": 157,
   "metadata": {},
   "outputs": [
    {
     "name": "stdout",
     "output_type": "stream",
     "text": [
      "              precision    recall  f1-score   support\n",
      "\n",
      "           1       0.84      0.87      0.85       486\n",
      "           5       0.96      0.95      0.95      1514\n",
      "\n",
      "    accuracy                           0.93      2000\n",
      "   macro avg       0.90      0.91      0.90      2000\n",
      "weighted avg       0.93      0.93      0.93      2000\n",
      "\n"
     ]
    }
   ],
   "source": [
    "print(classification_report(y_test, pred))"
   ]
  },
  {
   "cell_type": "markdown",
   "metadata": {},
   "source": [
    "## 6) Random Forest"
   ]
  },
  {
   "cell_type": "code",
   "execution_count": 171,
   "metadata": {},
   "outputs": [],
   "source": [
    "from sklearn.ensemble import RandomForestClassifier"
   ]
  },
  {
   "cell_type": "code",
   "execution_count": 176,
   "metadata": {},
   "outputs": [],
   "source": [
    "rf = RandomForestClassifier(max_depth =10, n_estimators = 1000)  # tree개수 1000개"
   ]
  },
  {
   "cell_type": "raw",
   "metadata": {},
   "source": [
    "rf.fit(X_train, y_train)"
   ]
  },
  {
   "cell_type": "code",
   "execution_count": 173,
   "metadata": {},
   "outputs": [
    {
     "ename": "NotFittedError",
     "evalue": "This RandomForestClassifier instance is not fitted yet. Call 'fit' with appropriate arguments before using this estimator.",
     "output_type": "error",
     "traceback": [
      "\u001b[1;31m---------------------------------------------------------------------------\u001b[0m",
      "\u001b[1;31mNotFittedError\u001b[0m                            Traceback (most recent call last)",
      "\u001b[1;32m<ipython-input-173-66a0a2284195>\u001b[0m in \u001b[0;36m<module>\u001b[1;34m\u001b[0m\n\u001b[1;32m----> 1\u001b[1;33m \u001b[0mpred2\u001b[0m \u001b[1;33m=\u001b[0m \u001b[0mrf\u001b[0m\u001b[1;33m.\u001b[0m\u001b[0mpredict\u001b[0m\u001b[1;33m(\u001b[0m\u001b[0mX_test\u001b[0m\u001b[1;33m)\u001b[0m\u001b[1;33m\u001b[0m\u001b[1;33m\u001b[0m\u001b[0m\n\u001b[0m",
      "\u001b[1;32mc:\\users\\minky\\anaconda3\\envs\\minky\\lib\\site-packages\\sklearn\\ensemble\\_forest.py\u001b[0m in \u001b[0;36mpredict\u001b[1;34m(self, X)\u001b[0m\n\u001b[0;32m    627\u001b[0m             \u001b[0mThe\u001b[0m \u001b[0mpredicted\u001b[0m \u001b[0mclasses\u001b[0m\u001b[1;33m.\u001b[0m\u001b[1;33m\u001b[0m\u001b[1;33m\u001b[0m\u001b[0m\n\u001b[0;32m    628\u001b[0m         \"\"\"\n\u001b[1;32m--> 629\u001b[1;33m         \u001b[0mproba\u001b[0m \u001b[1;33m=\u001b[0m \u001b[0mself\u001b[0m\u001b[1;33m.\u001b[0m\u001b[0mpredict_proba\u001b[0m\u001b[1;33m(\u001b[0m\u001b[0mX\u001b[0m\u001b[1;33m)\u001b[0m\u001b[1;33m\u001b[0m\u001b[1;33m\u001b[0m\u001b[0m\n\u001b[0m\u001b[0;32m    630\u001b[0m \u001b[1;33m\u001b[0m\u001b[0m\n\u001b[0;32m    631\u001b[0m         \u001b[1;32mif\u001b[0m \u001b[0mself\u001b[0m\u001b[1;33m.\u001b[0m\u001b[0mn_outputs_\u001b[0m \u001b[1;33m==\u001b[0m \u001b[1;36m1\u001b[0m\u001b[1;33m:\u001b[0m\u001b[1;33m\u001b[0m\u001b[1;33m\u001b[0m\u001b[0m\n",
      "\u001b[1;32mc:\\users\\minky\\anaconda3\\envs\\minky\\lib\\site-packages\\sklearn\\ensemble\\_forest.py\u001b[0m in \u001b[0;36mpredict_proba\u001b[1;34m(self, X)\u001b[0m\n\u001b[0;32m    669\u001b[0m             \u001b[0mclasses\u001b[0m \u001b[0mcorresponds\u001b[0m \u001b[0mto\u001b[0m \u001b[0mthat\u001b[0m \u001b[1;32min\u001b[0m \u001b[0mthe\u001b[0m \u001b[0mattribute\u001b[0m \u001b[1;33m:\u001b[0m\u001b[0mterm\u001b[0m\u001b[1;33m:\u001b[0m\u001b[0;31m`\u001b[0m\u001b[0mclasses_\u001b[0m\u001b[0;31m`\u001b[0m\u001b[1;33m.\u001b[0m\u001b[1;33m\u001b[0m\u001b[1;33m\u001b[0m\u001b[0m\n\u001b[0;32m    670\u001b[0m         \"\"\"\n\u001b[1;32m--> 671\u001b[1;33m         \u001b[0mcheck_is_fitted\u001b[0m\u001b[1;33m(\u001b[0m\u001b[0mself\u001b[0m\u001b[1;33m)\u001b[0m\u001b[1;33m\u001b[0m\u001b[1;33m\u001b[0m\u001b[0m\n\u001b[0m\u001b[0;32m    672\u001b[0m         \u001b[1;31m# Check data\u001b[0m\u001b[1;33m\u001b[0m\u001b[1;33m\u001b[0m\u001b[1;33m\u001b[0m\u001b[0m\n\u001b[0;32m    673\u001b[0m         \u001b[0mX\u001b[0m \u001b[1;33m=\u001b[0m \u001b[0mself\u001b[0m\u001b[1;33m.\u001b[0m\u001b[0m_validate_X_predict\u001b[0m\u001b[1;33m(\u001b[0m\u001b[0mX\u001b[0m\u001b[1;33m)\u001b[0m\u001b[1;33m\u001b[0m\u001b[1;33m\u001b[0m\u001b[0m\n",
      "\u001b[1;32mc:\\users\\minky\\anaconda3\\envs\\minky\\lib\\site-packages\\sklearn\\utils\\validation.py\u001b[0m in \u001b[0;36minner_f\u001b[1;34m(*args, **kwargs)\u001b[0m\n\u001b[0;32m     71\u001b[0m                           FutureWarning)\n\u001b[0;32m     72\u001b[0m         \u001b[0mkwargs\u001b[0m\u001b[1;33m.\u001b[0m\u001b[0mupdate\u001b[0m\u001b[1;33m(\u001b[0m\u001b[1;33m{\u001b[0m\u001b[0mk\u001b[0m\u001b[1;33m:\u001b[0m \u001b[0marg\u001b[0m \u001b[1;32mfor\u001b[0m \u001b[0mk\u001b[0m\u001b[1;33m,\u001b[0m \u001b[0marg\u001b[0m \u001b[1;32min\u001b[0m \u001b[0mzip\u001b[0m\u001b[1;33m(\u001b[0m\u001b[0msig\u001b[0m\u001b[1;33m.\u001b[0m\u001b[0mparameters\u001b[0m\u001b[1;33m,\u001b[0m \u001b[0margs\u001b[0m\u001b[1;33m)\u001b[0m\u001b[1;33m}\u001b[0m\u001b[1;33m)\u001b[0m\u001b[1;33m\u001b[0m\u001b[1;33m\u001b[0m\u001b[0m\n\u001b[1;32m---> 73\u001b[1;33m         \u001b[1;32mreturn\u001b[0m \u001b[0mf\u001b[0m\u001b[1;33m(\u001b[0m\u001b[1;33m**\u001b[0m\u001b[0mkwargs\u001b[0m\u001b[1;33m)\u001b[0m\u001b[1;33m\u001b[0m\u001b[1;33m\u001b[0m\u001b[0m\n\u001b[0m\u001b[0;32m     74\u001b[0m     \u001b[1;32mreturn\u001b[0m \u001b[0minner_f\u001b[0m\u001b[1;33m\u001b[0m\u001b[1;33m\u001b[0m\u001b[0m\n\u001b[0;32m     75\u001b[0m \u001b[1;33m\u001b[0m\u001b[0m\n",
      "\u001b[1;32mc:\\users\\minky\\anaconda3\\envs\\minky\\lib\\site-packages\\sklearn\\utils\\validation.py\u001b[0m in \u001b[0;36mcheck_is_fitted\u001b[1;34m(estimator, attributes, msg, all_or_any)\u001b[0m\n\u001b[0;32m   1018\u001b[0m \u001b[1;33m\u001b[0m\u001b[0m\n\u001b[0;32m   1019\u001b[0m     \u001b[1;32mif\u001b[0m \u001b[1;32mnot\u001b[0m \u001b[0mattrs\u001b[0m\u001b[1;33m:\u001b[0m\u001b[1;33m\u001b[0m\u001b[1;33m\u001b[0m\u001b[0m\n\u001b[1;32m-> 1020\u001b[1;33m         \u001b[1;32mraise\u001b[0m \u001b[0mNotFittedError\u001b[0m\u001b[1;33m(\u001b[0m\u001b[0mmsg\u001b[0m \u001b[1;33m%\u001b[0m \u001b[1;33m{\u001b[0m\u001b[1;34m'name'\u001b[0m\u001b[1;33m:\u001b[0m \u001b[0mtype\u001b[0m\u001b[1;33m(\u001b[0m\u001b[0mestimator\u001b[0m\u001b[1;33m)\u001b[0m\u001b[1;33m.\u001b[0m\u001b[0m__name__\u001b[0m\u001b[1;33m}\u001b[0m\u001b[1;33m)\u001b[0m\u001b[1;33m\u001b[0m\u001b[1;33m\u001b[0m\u001b[0m\n\u001b[0m\u001b[0;32m   1021\u001b[0m \u001b[1;33m\u001b[0m\u001b[0m\n\u001b[0;32m   1022\u001b[0m \u001b[1;33m\u001b[0m\u001b[0m\n",
      "\u001b[1;31mNotFittedError\u001b[0m: This RandomForestClassifier instance is not fitted yet. Call 'fit' with appropriate arguments before using this estimator."
     ]
    }
   ],
   "source": [
    "pred2 = rf.predict(X_test)"
   ]
  },
  {
   "cell_type": "code",
   "execution_count": 174,
   "metadata": {},
   "outputs": [
    {
     "ename": "NameError",
     "evalue": "name 'pred2' is not defined",
     "output_type": "error",
     "traceback": [
      "\u001b[1;31m---------------------------------------------------------------------------\u001b[0m",
      "\u001b[1;31mNameError\u001b[0m                                 Traceback (most recent call last)",
      "\u001b[1;32m<ipython-input-174-fc661fea0349>\u001b[0m in \u001b[0;36m<module>\u001b[1;34m\u001b[0m\n\u001b[1;32m----> 1\u001b[1;33m \u001b[0maccuracy_score\u001b[0m\u001b[1;33m(\u001b[0m\u001b[0my_test\u001b[0m\u001b[1;33m,\u001b[0m \u001b[0mpred2\u001b[0m\u001b[1;33m)\u001b[0m\u001b[1;33m\u001b[0m\u001b[1;33m\u001b[0m\u001b[0m\n\u001b[0m",
      "\u001b[1;31mNameError\u001b[0m: name 'pred2' is not defined"
     ]
    }
   ],
   "source": [
    "accuracy_score(y_test, pred2)"
   ]
  },
  {
   "cell_type": "code",
   "execution_count": 177,
   "metadata": {
    "scrolled": true
   },
   "outputs": [
    {
     "ename": "NameError",
     "evalue": "name 'pred2' is not defined",
     "output_type": "error",
     "traceback": [
      "\u001b[1;31m---------------------------------------------------------------------------\u001b[0m",
      "\u001b[1;31mNameError\u001b[0m                                 Traceback (most recent call last)",
      "\u001b[1;32m<ipython-input-177-fa7277e6a6aa>\u001b[0m in \u001b[0;36m<module>\u001b[1;34m\u001b[0m\n\u001b[1;32m----> 1\u001b[1;33m \u001b[0mprint\u001b[0m\u001b[1;33m(\u001b[0m\u001b[0mconfusion_matrix\u001b[0m\u001b[1;33m(\u001b[0m\u001b[0my_test\u001b[0m\u001b[1;33m,\u001b[0m \u001b[0mpred2\u001b[0m\u001b[1;33m)\u001b[0m\u001b[1;33m)\u001b[0m\u001b[1;33m\u001b[0m\u001b[1;33m\u001b[0m\u001b[0m\n\u001b[0m",
      "\u001b[1;31mNameError\u001b[0m: name 'pred2' is not defined"
     ]
    }
   ],
   "source": [
    "print(confusion_matrix(y_test, pred2))"
   ]
  },
  {
   "cell_type": "markdown",
   "metadata": {
    "heading_collapsed": true
   },
   "source": [
    "### Navie Bayes Classifier의 장점\n",
    "+ 각 변수 독립가정 -> fast\n",
    "+ n < p 일 때 유용함(n 관측치, p 컬럼) -> overfitting 벗어남\n",
    "+ 딥러닝을 제외하면 텍스트 데이터에 가장 적합(스팸메일 필터링, 감정분석)"
   ]
  },
  {
   "cell_type": "code",
   "execution_count": null,
   "metadata": {
    "hidden": true
   },
   "outputs": [],
   "source": []
  }
 ],
 "metadata": {
  "kernelspec": {
   "display_name": "Python 3",
   "language": "python",
   "name": "python3"
  },
  "language_info": {
   "codemirror_mode": {
    "name": "ipython",
    "version": 3
   },
   "file_extension": ".py",
   "mimetype": "text/x-python",
   "name": "python",
   "nbconvert_exporter": "python",
   "pygments_lexer": "ipython3",
   "version": "3.7.7"
  },
  "varInspector": {
   "cols": {
    "lenName": 16,
    "lenType": 16,
    "lenVar": 40
   },
   "kernels_config": {
    "python": {
     "delete_cmd_postfix": "",
     "delete_cmd_prefix": "del ",
     "library": "var_list.py",
     "varRefreshCmd": "print(var_dic_list())"
    },
    "r": {
     "delete_cmd_postfix": ") ",
     "delete_cmd_prefix": "rm(",
     "library": "var_list.r",
     "varRefreshCmd": "cat(var_dic_list()) "
    }
   },
   "types_to_exclude": [
    "module",
    "function",
    "builtin_function_or_method",
    "instance",
    "_Feature"
   ],
   "window_display": false
  }
 },
 "nbformat": 4,
 "nbformat_minor": 4
}
